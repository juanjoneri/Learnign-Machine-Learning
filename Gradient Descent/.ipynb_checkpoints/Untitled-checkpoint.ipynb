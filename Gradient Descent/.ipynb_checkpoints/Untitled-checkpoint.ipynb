{
 "cells": [
  {
   "cell_type": "markdown",
   "metadata": {},
   "source": [
    "# Abalone\n",
    "\n",
    "> This dataset comes from the UCI repository of machine learning databases. The task is to predict the age (number of rings) of abalone from physical measurements. More details are available in the original UCI documentation\n",
    "\n",
    "### Dataset profile:\n",
    "- Origin: natural\n",
    "- Usage: assessment\n",
    "- Number of attributes: 9\n",
    "- Number of cases: 4177\n",
    "- Number of prototasks: 1\n",
    "- Number of methods run on this dataset: 2\n",
    "- Download abalone.tar.gz\n",
    "\n",
    "   Predicting the age of abalone from physical measurements.  The age of\n",
    "   abalone is determined by cutting the shell through the cone, staining it,\n",
    "   and counting the number of rings through a microscope -- a boring and\n",
    "   time-consuming task.  Other measurements, which are easier to obtain, are\n",
    "   used to predict the age.  Further information, such as weather patterns\n",
    "   and location (hence food availability) may be required to solve the problem.\n",
    "\n",
    "   From the original data examples with missing values were removed (the\n",
    "   majority having the predicted value missing), and the ranges of the\n",
    "   continuous values have been scaled for use with an ANN (by dividing by 200).\n",
    "\n",
    "   Data comes from an original (non-machine-learning) study:\n",
    "\n",
    "       Warwick J Nash, Tracy L Sellers, Simon R Talbot, Andrew J Cawthorn and\n",
    "       Wes B Ford (1994) \"The Population Biology of Abalone (_Haliotis_\n",
    "       species) in Tasmania. I. Blacklip Abalone (_H. rubra_) from the North\n",
    "       Coast and Islands of Bass Strait\", Sea Fisheries Division, Technical\n",
    "       Report No. 48 (ISSN 1034-3288)\n",
    "\n",
    "### Title: \n",
    "UCI Abalone Database. Predict number of rings (age) of abalone from physical measurements\n",
    "\n",
    "### Origin: \n",
    "natural\n",
    "\n",
    "### Usage: \n",
    "assessment\n",
    "\n",
    "### Order: \n",
    "uninformative\n",
    "\n",
    "### Attributes:\n",
    "\n",
    "| Attribute | Range | Description |\n",
    "| --- | --- | --- |\n",
    "| sex                | u  M F I     |  Gender or Infant (I) |\n",
    "| length             | u  (0,Inf]   |  Longest shell measurement (mm) |\n",
    "| diameter           | u  (0,Inf]   |  perpendicular to length     (mm) |\n",
    "| height             | u  (0,Inf]   |  with meat in shell (mm) |\n",
    "| whole_weight       | u  (0,Inf]   |  whole abalone  (gr) |\n",
    "| Shucked_weight     | u  (0,Inf]   |  weight of meat (gr) |\n",
    "| viscera_weight     | u  (0,Inf]   |  gut weight (after bleeding) (gr) |\n",
    "| shell_weight       | u  (0,Inf]   |  after being dried (gr) |\n",
    "| rings              | u  0..29     |  +1.5 gives the age in years |\n"
   ]
  },
  {
   "cell_type": "code",
   "execution_count": 1,
   "metadata": {
    "collapsed": true
   },
   "outputs": [],
   "source": [
    "import numpy as np\n",
    "import matplotlib.pyplot as plt"
   ]
  },
  {
   "cell_type": "code",
   "execution_count": null,
   "metadata": {
    "collapsed": true
   },
   "outputs": [],
   "source": [
    "abalone_data = np.genfromtxt('./Datasets/Dataset.data', delimiter=' ')"
   ]
  }
 ],
 "metadata": {
  "kernelspec": {
   "display_name": "Python 3",
   "language": "python",
   "name": "python3"
  },
  "language_info": {
   "codemirror_mode": {
    "name": "ipython",
    "version": 3
   },
   "file_extension": ".py",
   "mimetype": "text/x-python",
   "name": "python",
   "nbconvert_exporter": "python",
   "pygments_lexer": "ipython3",
   "version": "3.5.1"
  }
 },
 "nbformat": 4,
 "nbformat_minor": 1
}
