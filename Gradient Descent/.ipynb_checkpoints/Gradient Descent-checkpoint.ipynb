{
 "cells": [
  {
   "cell_type": "code",
   "execution_count": 1,
   "metadata": {
    "collapsed": true
   },
   "outputs": [],
   "source": [
    "import numpy as np\n",
    "import matplotlib.pyplot as plt\n",
    "from prettytable import PrettyTable"
   ]
  },
  {
   "cell_type": "code",
   "execution_count": 4,
   "metadata": {
    "collapsed": false
   },
   "outputs": [
    {
     "name": "stdout",
     "output_type": "stream",
     "text": [
      "+-------+--------+----------+--------+--------------+----------------+----------------+--------------+-------+\n",
      "| indep | length | diameter | height | whole_weight | Shucked_weight | viscera_weight | shell_weight | rings |\n",
      "+-------+--------+----------+--------+--------------+----------------+----------------+--------------+-------+\n",
      "|  1.0  | 0.455  |  0.365   | 0.095  |    0.514     |     0.2245     |     0.101      |     0.15     |  15.0 |\n",
      "|  1.0  |  0.35  |  0.265   |  0.09  |    0.2255    |     0.0995     |     0.0485     |     0.07     |  7.0  |\n",
      "|  1.0  |  0.53  |   0.42   | 0.135  |    0.677     |     0.2565     |     0.1415     |     0.21     |  9.0  |\n",
      "|  1.0  |  0.44  |  0.365   | 0.125  |    0.516     |     0.2155     |     0.114      |    0.155     |  10.0 |\n",
      "|  1.0  |  0.33  |  0.255   |  0.08  |    0.205     |     0.0895     |     0.0395     |    0.055     |  7.0  |\n",
      "|  1.0  | 0.425  |   0.3    | 0.095  |    0.3515    |     0.141      |     0.0775     |     0.12     |  8.0  |\n",
      "|  1.0  |  0.53  |  0.415   |  0.15  |    0.7775    |     0.237      |     0.1415     |     0.33     |  20.0 |\n",
      "|  1.0  | 0.545  |  0.425   | 0.125  |    0.768     |     0.294      |     0.1495     |     0.26     |  16.0 |\n",
      "|  1.0  | 0.475  |   0.37   | 0.125  |    0.5095    |     0.2165     |     0.1125     |    0.165     |  9.0  |\n",
      "|  1.0  |  0.55  |   0.44   |  0.15  |    0.8945    |     0.3145     |     0.151      |     0.32     |  19.0 |\n",
      "+-------+--------+----------+--------+--------------+----------------+----------------+--------------+-------+\n"
     ]
    }
   ],
   "source": [
    "abalone_data = np.genfromtxt('./Datasets/Dataset.data', delimiter=' ') \n",
    "abalone_data = np.delete(abalone_data, 0, 1) #Delete sex because its NaN\n",
    "abalone_data = np.insert(abalone_data, 0, 1, axis = 1) #replace with all 1 for indep\n",
    "\n",
    "NbAttributes = np.shape(abalone_data)[1] #9 (counting indep)\n",
    "NbCases = np.shape(abalone_data)[0]      #4177\n",
    "lables = ['indep', 'length', 'diameter','height','whole_weight','Shucked_weight','viscera_weight','shell_weight', 'rings']\n",
    "\n",
    "t = PrettyTable(lables)\n",
    "for i in range(NbCases):\n",
    "    t.add_row( [abalone_data[i][j] for j in range(NbAttributes)] )\n",
    "\n",
    "print(t.get_string(start = 0, end = 10))"
   ]
  },
  {
   "cell_type": "markdown",
   "metadata": {},
   "source": [
    "## Apply Gradient Descent\n",
    "$$ \\theta_{j}  = \\theta_{j} - \\alpha\\frac{1}{m} \\sum_{i=1}^{m} [h_\\theta (X^{i}) - Y^{i}]*X_j^{i} $$"
   ]
  },
  {
   "cell_type": "code",
   "execution_count": 71,
   "metadata": {
    "collapsed": false
   },
   "outputs": [],
   "source": [
    "NbVariables = NbAttributes - 1 #because the result is not considered a variable\n",
    "\n",
    "X = np.delete(abalone_data, NbVariables, 1) #only the parameters\n",
    "Y = abalone_data.T[NbAttributes-1].reshape(NbCases, 1) # Only the result which is the nb or rings as a column"
   ]
  },
  {
   "cell_type": "code",
   "execution_count": 72,
   "metadata": {
    "collapsed": false
   },
   "outputs": [],
   "source": [
    "# Define the gradient correspondent to the cuadratic const function\n",
    "\n",
    "# Th is the previous value of Th we had as a vector containing many thetas\n",
    "# j is the index of Th we wish to upate, we will have to update all or some for stochastic gradient descent\n",
    "# X is a matrix with colums being the variables used for learning\n",
    "# Y is a column vecotr which gives the correct results for the parameters of X\n",
    "def gradient (Th, j, X, Y):\n",
    "    gradient = 0\n",
    "    \n",
    "    for i in range(NbCases):\n",
    "        gradient += np.dot( ( np.dot( Th, X[i] ) - Y[i] ), X[i][j] )[0]\n",
    "    \n",
    "    return gradient"
   ]
  },
  {
   "cell_type": "code",
   "execution_count": 94,
   "metadata": {
    "collapsed": false
   },
   "outputs": [
    {
     "name": "stdout",
     "output_type": "stream",
     "text": [
      "3.90290388889\n",
      "4.63178043111\n",
      "4.85791559768\n",
      "4.96373303577\n",
      "5.03708612177\n",
      "5.0984744617\n",
      "5.15297012199\n",
      "5.20208673336\n",
      "5.24649459114\n",
      "5.28664366971\n",
      "5.32290834076\n",
      "5.35562259284\n",
      "5.38509004576\n",
      "5.41158803785\n",
      "5.43537020568\n",
      "5.45666857934\n",
      "5.47569543879\n",
      "5.49264499849\n",
      "5.50769494546\n",
      "5.52100784582\n",
      "5.53273243143\n",
      "5.54300477701\n",
      "5.55194937717\n",
      "5.55968013167\n",
      "5.56630124697\n",
      "5.571908061\n",
      "5.57658779777\n",
      "5.58042025775\n",
      "5.58347844955\n",
      "5.58582916781\n",
      "5.58753352197\n",
      "5.58864741997\n",
      "5.58922201085\n",
      "5.58930408972\n",
      "5.58893646817\n",
      "5.58815831325\n",
      "5.5870054576\n",
      "5.58551068312\n",
      "5.58370398061\n",
      "5.58161278723\n",
      "5.57926220377\n",
      "5.57667519351\n",
      "5.57387276405\n",
      "5.57087413371\n",
      "5.56769688383\n",
      "5.56435709801\n",
      "5.5608694896\n",
      "5.55724751823\n",
      "5.55350349655\n",
      "5.54964868783\n"
     ]
    }
   ],
   "source": [
    "# Use the gradient of each parameter to update accordingly\n",
    "Th = np.ones(NbVariables) # Initialize to random values like all 1's\n",
    "Alph = 0.001\n",
    "m = NbAttributes\n",
    "\n",
    "iterations = 50\n",
    "\n",
    "for k in range(iterations):\n",
    "    NewTh = Th #Define a new th as placeholder because we want to update all at once\n",
    "    \n",
    "    for j in range(NbVariables):\n",
    "        NewTh[j] -= Alph/m * gradient(Th, j, X, Y)\n",
    "    \n",
    "    Th = NewTh    "
   ]
  },
  {
   "cell_type": "code",
   "execution_count": null,
   "metadata": {
    "collapsed": true
   },
   "outputs": [],
   "source": []
  }
 ],
 "metadata": {
  "kernelspec": {
   "display_name": "Python 3",
   "language": "python",
   "name": "python3"
  },
  "language_info": {
   "codemirror_mode": {
    "name": "ipython",
    "version": 3
   },
   "file_extension": ".py",
   "mimetype": "text/x-python",
   "name": "python",
   "nbconvert_exporter": "python",
   "pygments_lexer": "ipython3",
   "version": "3.5.1"
  }
 },
 "nbformat": 4,
 "nbformat_minor": 1
}
