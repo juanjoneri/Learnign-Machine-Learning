{
 "cells": [
  {
   "cell_type": "code",
   "execution_count": 1,
   "metadata": {
    "collapsed": true
   },
   "outputs": [],
   "source": [
    "import numpy as np\n",
    "import matplotlib.pyplot as plt\n",
    "from prettytable import PrettyTable"
   ]
  },
  {
   "cell_type": "code",
   "execution_count": 4,
   "metadata": {
    "collapsed": false
   },
   "outputs": [
    {
     "name": "stdout",
     "output_type": "stream",
     "text": [
      "+-------+--------+----------+--------+--------------+----------------+----------------+--------------+-------+\n",
      "| indep | length | diameter | height | whole_weight | Shucked_weight | viscera_weight | shell_weight | rings |\n",
      "+-------+--------+----------+--------+--------------+----------------+----------------+--------------+-------+\n",
      "|  1.0  | 0.455  |  0.365   | 0.095  |    0.514     |     0.2245     |     0.101      |     0.15     |  15.0 |\n",
      "|  1.0  |  0.35  |  0.265   |  0.09  |    0.2255    |     0.0995     |     0.0485     |     0.07     |  7.0  |\n",
      "|  1.0  |  0.53  |   0.42   | 0.135  |    0.677     |     0.2565     |     0.1415     |     0.21     |  9.0  |\n",
      "|  1.0  |  0.44  |  0.365   | 0.125  |    0.516     |     0.2155     |     0.114      |    0.155     |  10.0 |\n",
      "|  1.0  |  0.33  |  0.255   |  0.08  |    0.205     |     0.0895     |     0.0395     |    0.055     |  7.0  |\n",
      "|  1.0  | 0.425  |   0.3    | 0.095  |    0.3515    |     0.141      |     0.0775     |     0.12     |  8.0  |\n",
      "|  1.0  |  0.53  |  0.415   |  0.15  |    0.7775    |     0.237      |     0.1415     |     0.33     |  20.0 |\n",
      "|  1.0  | 0.545  |  0.425   | 0.125  |    0.768     |     0.294      |     0.1495     |     0.26     |  16.0 |\n",
      "|  1.0  | 0.475  |   0.37   | 0.125  |    0.5095    |     0.2165     |     0.1125     |    0.165     |  9.0  |\n",
      "|  1.0  |  0.55  |   0.44   |  0.15  |    0.8945    |     0.3145     |     0.151      |     0.32     |  19.0 |\n",
      "+-------+--------+----------+--------+--------------+----------------+----------------+--------------+-------+\n"
     ]
    }
   ],
   "source": [
    "abalone_data = np.genfromtxt('./Datasets/Dataset.data', delimiter=' ') \n",
    "abalone_data = np.delete(abalone_data, 0, 1) #Delete sex because its NaN\n",
    "abalone_data = np.insert(abalone_data, 0, 1, axis = 1) #replace with all 1 for indep\n",
    "\n",
    "NbAttributes = np.shape(abalone_data)[1] #9 (counting indep)\n",
    "NbCases = np.shape(abalone_data)[0]      #4177\n",
    "lables = ['indep', 'length', 'diameter','height','whole_weight','Shucked_weight','viscera_weight','shell_weight', 'rings']\n",
    "\n",
    "t = PrettyTable(lables)\n",
    "for i in range(NbCases):\n",
    "    t.add_row( [abalone_data[i][j] for j in range(NbAttributes)] )\n",
    "\n",
    "print(t.get_string(start = 0, end = 10))"
   ]
  },
  {
   "cell_type": "markdown",
   "metadata": {},
   "source": [
    "## Apply Gradient Descent\n",
    "$$ \\theta_{j} -= \\alpha\\frac{1}{m} \\sum_{i=1}^{m} [h_\\theta (x^{i}) - y^{i}]*x_j^{i} $$"
   ]
  },
  {
   "cell_type": "code",
   "execution_count": 30,
   "metadata": {
    "collapsed": false
   },
   "outputs": [],
   "source": [
    "X = np.delete(abalone_data, NbAttributes-1, 1) #only the parameters\n",
    "Y = abalone_data.T[NbAttributes-1].reshape(NbCases, 1) # Only the result which is the nb or rings as a column"
   ]
  },
  {
   "cell_type": "code",
   "execution_count": null,
   "metadata": {
    "collapsed": true
   },
   "outputs": [],
   "source": []
  }
 ],
 "metadata": {
  "kernelspec": {
   "display_name": "Python 3",
   "language": "python",
   "name": "python3"
  },
  "language_info": {
   "codemirror_mode": {
    "name": "ipython",
    "version": 3
   },
   "file_extension": ".py",
   "mimetype": "text/x-python",
   "name": "python",
   "nbconvert_exporter": "python",
   "pygments_lexer": "ipython3",
   "version": "3.5.1"
  }
 },
 "nbformat": 4,
 "nbformat_minor": 1
}
