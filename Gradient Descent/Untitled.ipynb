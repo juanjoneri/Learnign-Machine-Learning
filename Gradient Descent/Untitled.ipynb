{
 "cells": [
  {
   "cell_type": "markdown",
   "metadata": {},
   "source": [
    "# Abalone\n",
    "\n",
    "> This dataset comes from the UCI repository of machine learning databases. The task is to predict the age (number of rings) of abalone from physical measurements. More details are available in the original UCI documentation\n",
    "\n",
    "### Dataset profile:\n",
    "- Origin: natural\n",
    "- Usage: assessment\n",
    "- Number of attributes: 9\n",
    "- Number of cases: 4177\n",
    "- Number of prototasks: 1\n",
    "- Number of methods run on this dataset: 2\n",
    "- Download abalone.tar.gz\n",
    "\n",
    "   Predicting the age of abalone from physical measurements.  The age of\n",
    "   abalone is determined by cutting the shell through the cone, staining it,\n",
    "   and counting the number of rings through a microscope -- a boring and\n",
    "   time-consuming task.  Other measurements, which are easier to obtain, are\n",
    "   used to predict the age.  Further information, such as weather patterns\n",
    "   and location (hence food availability) may be required to solve the problem.\n",
    "\n",
    "   From the original data examples with missing values were removed (the\n",
    "   majority having the predicted value missing), and the ranges of the\n",
    "   continuous values have been scaled for use with an ANN (by dividing by 200).\n",
    "\n",
    "   Data comes from an original (non-machine-learning) study:\n",
    "\n",
    "       Warwick J Nash, Tracy L Sellers, Simon R Talbot, Andrew J Cawthorn and\n",
    "       Wes B Ford (1994) \"The Population Biology of Abalone (_Haliotis_\n",
    "       species) in Tasmania. I. Blacklip Abalone (_H. rubra_) from the North\n",
    "       Coast and Islands of Bass Strait\", Sea Fisheries Division, Technical\n",
    "       Report No. 48 (ISSN 1034-3288)\n",
    "\n",
    "### Title: \n",
    "UCI Abalone Database. Predict number of rings (age) of abalone from physical measurements\n",
    "\n",
    "### Origin: \n",
    "natural\n",
    "\n",
    "### Usage: \n",
    "assessment\n",
    "\n",
    "### Order: \n",
    "uninformative\n",
    "\n",
    "### Attributes:\n",
    "\n",
    "| Attribute | Range | Description |\n",
    "| --- | --- | --- |\n",
    "| sex                | u  M F I     |  Gender or Infant (I) |\n",
    "| length             | u  (0,Inf]   |  Longest shell measurement (mm) |\n",
    "| diameter           | u  (0,Inf]   |  perpendicular to length     (mm) |\n",
    "| height             | u  (0,Inf]   |  with meat in shell (mm) |\n",
    "| whole_weight       | u  (0,Inf]   |  whole abalone  (gr) |\n",
    "| Shucked_weight     | u  (0,Inf]   |  weight of meat (gr) |\n",
    "| viscera_weight     | u  (0,Inf]   |  gut weight (after bleeding) (gr) |\n",
    "| shell_weight       | u  (0,Inf]   |  after being dried (gr) |\n",
    "| rings              | u  0..29     |  +1.5 gives the age in years |\n"
   ]
  },
  {
   "cell_type": "code",
   "execution_count": 4,
   "metadata": {
    "collapsed": true
   },
   "outputs": [],
   "source": [
    "import numpy as np\n",
    "import matplotlib.pyplot as plt\n",
    "from prettytable import PrettyTable"
   ]
  },
  {
   "cell_type": "code",
   "execution_count": 51,
   "metadata": {
    "collapsed": false
   },
   "outputs": [
    {
     "name": "stdout",
     "output_type": "stream",
     "text": [
      "+--------+----------+--------+--------------+----------------+----------------+--------------+-------+\n",
      "| length | diameter | height | whole_weight | Shucked_weight | viscera_weight | shell_weight | rings |\n",
      "+--------+----------+--------+--------------+----------------+----------------+--------------+-------+\n",
      "| 0.455  |  0.365   | 0.095  |    0.514     |     0.2245     |     0.101      |     0.15     |  15.0 |\n",
      "|  0.35  |  0.265   |  0.09  |    0.2255    |     0.0995     |     0.0485     |     0.07     |  7.0  |\n",
      "|  0.53  |   0.42   | 0.135  |    0.677     |     0.2565     |     0.1415     |     0.21     |  9.0  |\n",
      "|  0.44  |  0.365   | 0.125  |    0.516     |     0.2155     |     0.114      |    0.155     |  10.0 |\n",
      "|  0.33  |  0.255   |  0.08  |    0.205     |     0.0895     |     0.0395     |    0.055     |  7.0  |\n",
      "| 0.425  |   0.3    | 0.095  |    0.3515    |     0.141      |     0.0775     |     0.12     |  8.0  |\n",
      "|  0.53  |  0.415   |  0.15  |    0.7775    |     0.237      |     0.1415     |     0.33     |  20.0 |\n",
      "| 0.545  |  0.425   | 0.125  |    0.768     |     0.294      |     0.1495     |     0.26     |  16.0 |\n",
      "| 0.475  |   0.37   | 0.125  |    0.5095    |     0.2165     |     0.1125     |    0.165     |  9.0  |\n",
      "|  0.55  |   0.44   |  0.15  |    0.8945    |     0.3145     |     0.151      |     0.32     |  19.0 |\n",
      "+--------+----------+--------+--------------+----------------+----------------+--------------+-------+\n"
     ]
    }
   ],
   "source": [
    "abalone_data = np.genfromtxt('./Datasets/Dataset.data', delimiter=' ') \n",
    "abalone_data = np.delete(abalone_data, 0, 1)\n",
    "# We are skiping the sex for we do not know what to do with that kind of data\n",
    "\n",
    "NbAttributes = np.shape(abalone_data)[1]\n",
    "NbCases = np.shape(abalone_data)[0]\n",
    "\n",
    "t = PrettyTable(['length', 'diameter','height','whole_weight','Shucked_weight','viscera_weight','shell_weight', 'rings'])\n",
    "for i in range(NbCases):\n",
    "    t.add_row( [abalone_data[i][j] for j in range(NbAttributes)] )\n",
    "\n",
    "print(t.get_string(start = 0, end = 10))"
   ]
  },
  {
   "cell_type": "code",
   "execution_count": 30,
   "metadata": {
    "collapsed": false
   },
   "outputs": [
    {
     "data": {
      "text/plain": [
       "4177"
      ]
     },
     "execution_count": 30,
     "metadata": {},
     "output_type": "execute_result"
    }
   ],
   "source": [
    "np.shape(abalone_data)[0]"
   ]
  },
  {
   "cell_type": "code",
   "execution_count": 31,
   "metadata": {
    "collapsed": false
   },
   "outputs": [
    {
     "data": {
      "text/plain": [
       "array([[     nan,   0.455 ,   0.365 , ...,   0.101 ,   0.15  ,  15.    ],\n",
       "       [     nan,   0.35  ,   0.265 , ...,   0.0485,   0.07  ,   7.    ],\n",
       "       [     nan,   0.53  ,   0.42  , ...,   0.1415,   0.21  ,   9.    ],\n",
       "       ..., \n",
       "       [     nan,   0.6   ,   0.475 , ...,   0.2875,   0.308 ,   9.    ],\n",
       "       [     nan,   0.625 ,   0.485 , ...,   0.261 ,   0.296 ,  10.    ],\n",
       "       [     nan,   0.71  ,   0.555 , ...,   0.3765,   0.495 ,  12.    ]])"
      ]
     },
     "execution_count": 31,
     "metadata": {},
     "output_type": "execute_result"
    }
   ],
   "source": [
    "abalone_data"
   ]
  },
  {
   "cell_type": "code",
   "execution_count": 38,
   "metadata": {
    "collapsed": false
   },
   "outputs": [
    {
     "data": {
      "text/plain": [
       "array([    nan,  0.35  ,  0.265 ,  0.09  ,  0.2255,  0.0995,  0.0485,\n",
       "        0.07  ,  7.    ])"
      ]
     },
     "execution_count": 38,
     "metadata": {},
     "output_type": "execute_result"
    }
   ],
   "source": [
    "abalone_data[0]"
   ]
  },
  {
   "cell_type": "code",
   "execution_count": null,
   "metadata": {
    "collapsed": true
   },
   "outputs": [],
   "source": []
  }
 ],
 "metadata": {
  "kernelspec": {
   "display_name": "Python 3",
   "language": "python",
   "name": "python3"
  },
  "language_info": {
   "codemirror_mode": {
    "name": "ipython",
    "version": 3
   },
   "file_extension": ".py",
   "mimetype": "text/x-python",
   "name": "python",
   "nbconvert_exporter": "python",
   "pygments_lexer": "ipython3",
   "version": "3.5.1"
  }
 },
 "nbformat": 4,
 "nbformat_minor": 1
}
