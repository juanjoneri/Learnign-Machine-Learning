{
 "cells": [
  {
   "cell_type": "code",
   "execution_count": 1,
   "metadata": {
    "collapsed": true
   },
   "outputs": [],
   "source": [
    "import numpy as np\n",
    "import matplotlib.pyplot as plt\n",
    "from prettytable import PrettyTable"
   ]
  },
  {
   "cell_type": "code",
   "execution_count": 4,
   "metadata": {
    "collapsed": false
   },
   "outputs": [
    {
     "name": "stdout",
     "output_type": "stream",
     "text": [
      "+-------+--------+----------+--------+--------------+----------------+----------------+--------------+-------+\n",
      "| indep | length | diameter | height | whole_weight | Shucked_weight | viscera_weight | shell_weight | rings |\n",
      "+-------+--------+----------+--------+--------------+----------------+----------------+--------------+-------+\n",
      "|  1.0  | 0.455  |  0.365   | 0.095  |    0.514     |     0.2245     |     0.101      |     0.15     |  15.0 |\n",
      "|  1.0  |  0.35  |  0.265   |  0.09  |    0.2255    |     0.0995     |     0.0485     |     0.07     |  7.0  |\n",
      "|  1.0  |  0.53  |   0.42   | 0.135  |    0.677     |     0.2565     |     0.1415     |     0.21     |  9.0  |\n",
      "|  1.0  |  0.44  |  0.365   | 0.125  |    0.516     |     0.2155     |     0.114      |    0.155     |  10.0 |\n",
      "|  1.0  |  0.33  |  0.255   |  0.08  |    0.205     |     0.0895     |     0.0395     |    0.055     |  7.0  |\n",
      "|  1.0  | 0.425  |   0.3    | 0.095  |    0.3515    |     0.141      |     0.0775     |     0.12     |  8.0  |\n",
      "|  1.0  |  0.53  |  0.415   |  0.15  |    0.7775    |     0.237      |     0.1415     |     0.33     |  20.0 |\n",
      "|  1.0  | 0.545  |  0.425   | 0.125  |    0.768     |     0.294      |     0.1495     |     0.26     |  16.0 |\n",
      "|  1.0  | 0.475  |   0.37   | 0.125  |    0.5095    |     0.2165     |     0.1125     |    0.165     |  9.0  |\n",
      "|  1.0  |  0.55  |   0.44   |  0.15  |    0.8945    |     0.3145     |     0.151      |     0.32     |  19.0 |\n",
      "+-------+--------+----------+--------+--------------+----------------+----------------+--------------+-------+\n"
     ]
    }
   ],
   "source": [
    "abalone_data = np.genfromtxt('./Datasets/Dataset.data', delimiter=' ') \n",
    "abalone_data = np.delete(abalone_data, 0, 1) #Delete sex because its NaN\n",
    "abalone_data = np.insert(abalone_data, 0, 1, axis = 1) #replace with all 1 for indep\n",
    "\n",
    "NbAttributes = np.shape(abalone_data)[1] #9 (counting indep)\n",
    "NbCases = np.shape(abalone_data)[0]      #4177\n",
    "lables = ['indep', 'length', 'diameter','height','whole_weight','Shucked_weight','viscera_weight','shell_weight', 'rings']\n",
    "\n",
    "t = PrettyTable(lables)\n",
    "for i in range(NbCases):\n",
    "    t.add_row( [abalone_data[i][j] for j in range(NbAttributes)] )\n",
    "\n",
    "print(t.get_string(start = 0, end = 10))"
   ]
  },
  {
   "cell_type": "markdown",
   "metadata": {},
   "source": [
    "## Apply Gradient Descent\n",
    "$$ \\theta_{j}  = \\theta_{j} - \\alpha\\frac{1}{m} \\sum_{i=1}^{m} [h_\\theta (X^{i}) - Y^{i}]*X_j^{i} $$"
   ]
  },
  {
   "cell_type": "code",
   "execution_count": 71,
   "metadata": {
    "collapsed": false
   },
   "outputs": [],
   "source": [
    "NbVariables = NbAttributes - 1 #because the result is not considered a variable\n",
    "\n",
    "X = np.delete(abalone_data, NbVariables, 1) #only the parameters\n",
    "Y = abalone_data.T[NbAttributes-1].reshape(NbCases, 1) # Only the result which is the nb or rings as a column"
   ]
  },
  {
   "cell_type": "code",
   "execution_count": 72,
   "metadata": {
    "collapsed": false
   },
   "outputs": [],
   "source": [
    "# Define the gradient correspondent to the cuadratic const function\n",
    "\n",
    "# Th is the previous value of Th we had as a vector containing many thetas\n",
    "# j is the index of Th we wish to upate, we will have to update all or some for stochastic gradient descent\n",
    "# X is a matrix with colums being the variables used for learning\n",
    "# Y is a column vecotr which gives the correct results for the parameters of X\n",
    "def gradient (Th, j, X, Y):\n",
    "    gradient = 0\n",
    "    \n",
    "    for i in range(NbCases):\n",
    "        gradient += np.dot( ( np.dot( Th, X[i] ) - Y[i] ), X[i][j] )[0]\n",
    "    \n",
    "    return gradient"
   ]
  },
  {
   "cell_type": "code",
   "execution_count": 109,
   "metadata": {
    "collapsed": false
   },
   "outputs": [
    {
     "name": "stdout",
     "output_type": "stream",
     "text": [
      "+------+-------+--------+----------+--------+----------+----------+----------+----------+\n",
      "|  k   | indep | length | diameter | height | w_weight | S_weight | v_weight | s_weight |\n",
      "+------+-------+--------+----------+--------+----------+----------+----------+----------+\n",
      "| 0.0  | 3.903 | 1.852  |  1.579   | 1.186  |  2.109   |  1.239   |  1.125   |  1.189   |\n",
      "| 1.0  | 4.632 | 2.052  |  1.716   | 1.232  |  2.309   |  1.253   |  1.146   |  1.245   |\n",
      "| 2.0  | 4.858 | 2.103  |  1.752   | 1.246  |  2.305   |  1.217   |  1.143   |   1.27   |\n",
      "| 3.0  | 4.964 |  2.12  |  1.765   | 1.253  |   2.26   |   1.17   |  1.136   |  1.289   |\n",
      "| 4.0  | 5.037 | 2.129  |  1.774   | 1.259  |  2.209   |  1.122   |  1.129   |  1.307   |\n",
      "| 5.0  | 5.098 | 2.136  |  1.781   | 1.264  |   2.16   |  1.075   |  1.121   |  1.326   |\n",
      "| 6.0  | 5.153 | 2.143  |  1.788   |  1.27  |  2.116   |   1.03   |  1.114   |  1.344   |\n",
      "| 7.0  | 5.202 |  2.15  |  1.795   | 1.275  |  2.076   |  0.985   |  1.108   |  1.363   |\n",
      "| 8.0  | 5.246 | 2.156  |  1.802   |  1.28  |  2.039   |  0.941   |  1.102   |  1.383   |\n",
      "| 9.0  | 5.287 | 2.163  |  1.809   | 1.286  |  2.006   |  0.898   |  1.096   |  1.403   |\n",
      "| 10.0 | 5.323 |  2.17  |  1.816   | 1.291  |  1.976   |  0.856   |  1.091   |  1.423   |\n",
      "| 11.0 | 5.356 | 2.177  |  1.823   | 1.296  |  1.949   |  0.815   |  1.086   |  1.444   |\n",
      "| 12.0 | 5.385 | 2.184  |   1.83   | 1.302  |  1.925   |  0.775   |  1.081   |  1.465   |\n",
      "| 13.0 | 5.412 | 2.191  |  1.838   | 1.307  |  1.903   |  0.735   |  1.077   |  1.486   |\n",
      "| 14.0 | 5.435 | 2.198  |  1.845   | 1.313  |  1.884   |  0.696   |  1.073   |  1.507   |\n",
      "| 15.0 | 5.457 | 2.205  |  1.852   | 1.319  |  1.866   |  0.658   |  1.069   |  1.529   |\n",
      "| 16.0 | 5.476 | 2.212  |   1.86   | 1.324  |  1.851   |   0.62   |  1.065   |   1.55   |\n",
      "| 17.0 | 5.493 | 2.218  |  1.867   |  1.33  |  1.837   |  0.583   |  1.061   |  1.572   |\n",
      "| 18.0 | 5.508 | 2.225  |  1.875   | 1.336  |  1.825   |  0.546   |  1.058   |  1.594   |\n",
      "| 19.0 | 5.521 | 2.232  |  1.882   | 1.341  |  1.814   |  0.509   |  1.055   |  1.617   |\n",
      "| 20.0 | 5.533 | 2.239  |   1.89   | 1.347  |  1.804   |  0.473   |  1.052   |  1.639   |\n",
      "| 21.0 | 5.543 | 2.246  |  1.897   | 1.353  |  1.796   |  0.437   |  1.049   |  1.661   |\n",
      "| 22.0 | 5.552 | 2.253  |  1.905   | 1.358  |  1.789   |  0.402   |  1.046   |  1.684   |\n",
      "| 23.0 |  5.56 |  2.26  |  1.912   | 1.364  |  1.783   |  0.367   |  1.043   |  1.706   |\n",
      "| 24.0 | 5.566 | 2.267  |   1.92   |  1.37  |  1.777   |  0.332   |   1.04   |  1.729   |\n",
      "| 25.0 | 5.572 | 2.274  |  1.927   | 1.375  |  1.773   |  0.298   |  1.038   |  1.752   |\n",
      "| 26.0 | 5.577 | 2.281  |  1.935   | 1.381  |  1.769   |  0.264   |  1.035   |  1.775   |\n",
      "| 27.0 |  5.58 | 2.288  |  1.942   | 1.387  |  1.766   |   0.23   |  1.033   |  1.797   |\n",
      "| 28.0 | 5.583 | 2.294  |   1.95   | 1.393  |  1.764   |  0.196   |  1.031   |   1.82   |\n",
      "| 29.0 | 5.586 | 2.301  |  1.957   | 1.398  |  1.762   |  0.162   |  1.029   |  1.843   |\n",
      "| 30.0 | 5.588 | 2.308  |  1.965   | 1.404  |  1.761   |  0.129   |  1.026   |  1.866   |\n",
      "| 31.0 | 5.589 | 2.315  |  1.973   |  1.41  |   1.76   |  0.096   |  1.024   |  1.889   |\n",
      "| 32.0 | 5.589 | 2.322  |   1.98   | 1.416  |   1.76   |  0.063   |  1.022   |  1.912   |\n",
      "| 33.0 | 5.589 | 2.329  |  1.988   | 1.421  |   1.76   |   0.03   |   1.02   |  1.935   |\n",
      "| 34.0 | 5.589 | 2.335  |  1.995   | 1.427  |  1.761   |  -0.003  |  1.018   |  1.958   |\n",
      "| 35.0 | 5.588 | 2.342  |  2.003   | 1.433  |  1.762   |  -0.035  |  1.016   |  1.981   |\n",
      "| 36.0 | 5.587 | 2.349  |   2.01   | 1.439  |  1.763   |  -0.067  |  1.014   |  2.004   |\n",
      "| 37.0 | 5.586 | 2.356  |  2.018   | 1.444  |  1.764   |   -0.1   |  1.012   |  2.027   |\n",
      "| 38.0 | 5.584 | 2.363  |  2.025   |  1.45  |  1.766   |  -0.132  |   1.01   |  2.049   |\n",
      "| 39.0 | 5.582 | 2.369  |  2.033   | 1.456  |  1.768   |  -0.164  |  1.009   |  2.072   |\n",
      "| 40.0 | 5.579 | 2.376  |   2.04   | 1.461  |   1.77   |  -0.196  |  1.007   |  2.095   |\n",
      "| 41.0 | 5.577 | 2.383  |  2.048   | 1.467  |  1.773   |  -0.227  |  1.005   |  2.118   |\n",
      "| 42.0 | 5.574 | 2.389  |  2.055   | 1.473  |  1.775   |  -0.259  |  1.003   |  2.141   |\n",
      "| 43.0 | 5.571 | 2.396  |  2.063   | 1.479  |  1.778   |  -0.291  |  1.001   |  2.164   |\n",
      "| 44.0 | 5.568 | 2.403  |   2.07   | 1.484  |  1.781   |  -0.322  |   1.0    |  2.187   |\n",
      "| 45.0 | 5.564 | 2.409  |  2.077   |  1.49  |  1.784   |  -0.354  |  0.998   |  2.209   |\n",
      "| 46.0 | 5.561 | 2.416  |  2.085   | 1.496  |  1.787   |  -0.385  |  0.996   |  2.232   |\n",
      "| 47.0 | 5.557 | 2.423  |  2.092   | 1.501  |   1.79   |  -0.416  |  0.995   |  2.255   |\n",
      "| 48.0 | 5.554 | 2.429  |   2.1    | 1.507  |  1.793   |  -0.447  |  0.993   |  2.277   |\n",
      "| 49.0 |  5.55 | 2.436  |  2.107   | 1.513  |  1.797   |  -0.478  |  0.991   |   2.3    |\n",
      "| 50.0 | 5.546 | 2.443  |  2.114   | 1.518  |   1.8    |  -0.509  |  0.989   |  2.323   |\n",
      "| 51.0 | 5.542 | 2.449  |  2.122   | 1.524  |  1.804   |  -0.54   |  0.988   |  2.345   |\n",
      "| 52.0 | 5.538 | 2.456  |  2.129   |  1.53  |  1.808   |  -0.571  |  0.986   |  2.368   |\n",
      "| 53.0 | 5.533 | 2.462  |  2.136   | 1.535  |  1.812   |  -0.601  |  0.984   |   2.39   |\n",
      "| 54.0 | 5.529 | 2.469  |  2.144   | 1.541  |  1.815   |  -0.632  |  0.983   |  2.413   |\n",
      "| 55.0 | 5.525 | 2.475  |  2.151   | 1.546  |  1.819   |  -0.663  |  0.981   |  2.435   |\n",
      "| 56.0 |  5.52 | 2.482  |  2.158   | 1.552  |  1.823   |  -0.693  |  0.979   |  2.458   |\n",
      "| 57.0 | 5.516 | 2.488  |  2.166   | 1.558  |  1.827   |  -0.724  |  0.978   |   2.48   |\n",
      "| 58.0 | 5.511 | 2.495  |  2.173   | 1.563  |  1.831   |  -0.754  |  0.976   |  2.502   |\n",
      "| 59.0 | 5.507 | 2.501  |   2.18   | 1.569  |  1.835   |  -0.784  |  0.975   |  2.525   |\n",
      "| 60.0 | 5.502 | 2.508  |  2.188   | 1.574  |  1.839   |  -0.815  |  0.973   |  2.547   |\n",
      "| 61.0 | 5.498 | 2.514  |  2.195   |  1.58  |  1.843   |  -0.845  |  0.971   |  2.569   |\n",
      "| 62.0 | 5.493 |  2.52  |  2.202   | 1.586  |  1.847   |  -0.875  |   0.97   |  2.591   |\n",
      "| 63.0 | 5.489 | 2.527  |  2.209   | 1.591  |  1.851   |  -0.905  |  0.968   |  2.613   |\n",
      "| 64.0 | 5.484 | 2.533  |  2.216   | 1.597  |  1.856   |  -0.935  |  0.966   |  2.636   |\n",
      "| 65.0 | 5.479 |  2.54  |  2.224   | 1.602  |   1.86   |  -0.965  |  0.965   |  2.658   |\n",
      "| 66.0 | 5.474 | 2.546  |  2.231   | 1.608  |  1.864   |  -0.995  |  0.963   |   2.68   |\n",
      "| 67.0 |  5.47 | 2.552  |  2.238   | 1.613  |  1.868   |  -1.025  |  0.961   |  2.702   |\n",
      "| 68.0 | 5.465 | 2.559  |  2.245   | 1.619  |  1.872   |  -1.054  |   0.96   |  2.724   |\n",
      "| 69.0 |  5.46 | 2.565  |  2.252   | 1.624  |  1.877   |  -1.084  |  0.958   |  2.745   |\n",
      "+------+-------+--------+----------+--------+----------+----------+----------+----------+\n"
     ]
    }
   ],
   "source": [
    "# Use the gradient of each parameter to update accordingly\n",
    "Th = np.ones(NbVariables) # Initialize to random values like all 1's\n",
    "Alph = 0.001\n",
    "m = NbAttributes\n",
    "\n",
    "iterations = 70\n",
    "\n",
    "### for printing the steps ###\n",
    "lables = ['k', 'indep', 'length', 'diameter', 'height', 'w_weight', 'S_weight', 'v_weight', 's_weight']\n",
    "t = PrettyTable(lables)\n",
    "\n",
    "for k in range(iterations):\n",
    "    NewTh = Th #Define a new th as placeholder because we want to update all at once\n",
    "    \n",
    "    for j in range(NbVariables):\n",
    "        NewTh[j] -= Alph/m * gradient(Th, j, X, Y)\n",
    "    \n",
    "    Th = NewTh\n",
    "    t.add_row(np.insert( np.round(Th, decimals=3), 0, k ) ) # Add to the printer table, prepend the step\n",
    "    \n",
    "print(t)"
   ]
  },
  {
   "cell_type": "markdown",
   "metadata": {},
   "source": [
    "## See how the values for the parameters are converging!\n",
    "### Now do the same, but without printing"
   ]
  },
  {
   "cell_type": "code",
   "execution_count": null,
   "metadata": {
    "collapsed": true
   },
   "outputs": [],
   "source": [
    "# Use the gradient of each parameter to update accordingly\n",
    "Th = np.ones(NbVariables) # Initialize to random values like all 1's\n",
    "Alph = 0.001\n",
    "m = NbAttributes\n",
    "\n",
    "iterations = 300\n",
    "\n",
    "for k in range(iterations):\n",
    "    NewTh = Th #Define a new th as placeholder because we want to update all at once\n",
    "    \n",
    "    for j in range(NbVariables):\n",
    "        NewTh[j] -= Alph/m * gradient(Th, j, X, Y)\n",
    "    \n",
    "    Th = NewTh"
   ]
  }
 ],
 "metadata": {
  "kernelspec": {
   "display_name": "Python 3",
   "language": "python",
   "name": "python3"
  },
  "language_info": {
   "codemirror_mode": {
    "name": "ipython",
    "version": 3
   },
   "file_extension": ".py",
   "mimetype": "text/x-python",
   "name": "python",
   "nbconvert_exporter": "python",
   "pygments_lexer": "ipython3",
   "version": "3.5.1"
  }
 },
 "nbformat": 4,
 "nbformat_minor": 1
}
