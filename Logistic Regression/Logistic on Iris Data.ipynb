{
 "cells": [
  {
   "cell_type": "markdown",
   "metadata": {},
   "source": [
    "# Use famous Iris dataset to test Logistic Regression\n",
    "## And also to get started using scikit-learn"
   ]
  },
  {
   "cell_type": "code",
   "execution_count": 5,
   "metadata": {
    "collapsed": false
   },
   "outputs": [],
   "source": [
    "import numpy as np\n",
    "import matplotlib.pyplot as plt\n",
    "\n",
    "from sklearn.datasets import load_iris"
   ]
  },
  {
   "cell_type": "code",
   "execution_count": 71,
   "metadata": {
    "collapsed": false
   },
   "outputs": [],
   "source": [
    "iris_data = load_iris()\n",
    "\n",
    "features = iris_data.feature_names\n",
    "nbFeatures = np.shape(features)[0]\n",
    "\n",
    "data = iris_data.data\n",
    "nbPoints = np.shape(data)[0]\n",
    "\n",
    "targets = iris_data.target"
   ]
  },
  {
   "cell_type": "markdown",
   "metadata": {},
   "source": [
    "## Import plotly to print the data, no more prettytable"
   ]
  },
  {
   "cell_type": "code",
   "execution_count": 44,
   "metadata": {
    "collapsed": false
   },
   "outputs": [],
   "source": [
    "import plotly.plotly as py\n",
    "from plotly.tools import FigureFactory as FF\n",
    "plotly.tools.set_credentials_file(username='juanjo.neri', api_key='$*n^o%ne$of$your$(:bus#in!ess')\n",
    "## Great idea plotly! now everyone on github knows my credentials!"
   ]
  },
  {
   "cell_type": "markdown",
   "metadata": {},
   "source": [
    "### Put data together again to display (because sk gives it in parts)"
   ]
  },
  {
   "cell_type": "code",
   "execution_count": 73,
   "metadata": {
    "collapsed": false
   },
   "outputs": [
    {
     "data": {
      "text/html": [
       "<iframe id=\"igraph\" scrolling=\"no\" style=\"border:none;\" seamless=\"seamless\" src=\"https://plot.ly/~juanjo.neri/26.embed\" height=\"500px\" width=\"100%\"></iframe>"
      ],
      "text/plain": [
       "<plotly.tools.PlotlyDisplay object>"
      ]
     },
     "execution_count": 73,
     "metadata": {},
     "output_type": "execute_result"
    }
   ],
   "source": [
    "featuresMatrix = np.append(features, data).reshape((nbPoints + 1, nbFeatures)) # Add title lables\n",
    "targetsColumn = np.append(['Type'], targets).reshape((nbPoints + 1, 1))\n",
    "\n",
    "allTogether = np.append(featuresMatrix, targetsColumn, 1)\n",
    "\n",
    "table = FF.create_table(allTogether[0:nbPoints:10])\n",
    "py.iplot(table)"
   ]
  },
  {
   "cell_type": "markdown",
   "metadata": {},
   "source": [
    "## Turns out that github will not render plotly talbes\n",
    "### As a consolation, here is the png\n",
    "<img src=\"./img/alltogether.png\">"
   ]
  },
  {
   "cell_type": "markdown",
   "metadata": {},
   "source": [
    "# Let's do some Logistic Regression shall we\n",
    "## First using scikit - "
   ]
  },
  {
   "cell_type": "code",
   "execution_count": 76,
   "metadata": {
    "collapsed": false
   },
   "outputs": [],
   "source": [
    "# I think this data is in memory like 3 times with different names already\n",
    "X = iris_data.data\n",
    "y = iris_data.target\n",
    "\n",
    "# This is just following the usual workflow of sk\n",
    "from sklearn.linear_model import LogisticRegression\n",
    "logreg = LogisticRegression()\n",
    "logreg.fit(X, y)\n",
    "predictions = logreg.predict(X)"
   ]
  },
  {
   "cell_type": "code",
   "execution_count": 81,
   "metadata": {
    "collapsed": false
   },
   "outputs": [],
   "source": [
    "# So sad we have to use pretty table again :(\n",
    "from prettytable import PrettyTable as PT"
   ]
  },
  {
   "cell_type": "code",
   "execution_count": 92,
   "metadata": {
    "collapsed": false
   },
   "outputs": [
    {
     "name": "stdout",
     "output_type": "stream",
     "text": [
      "+----------+--------+\n",
      "| expected | actual |\n",
      "+----------+--------+\n",
      "|    0     |   0    |\n",
      "|    0     |   0    |\n",
      "|    0     |   0    |\n",
      "|    0     |   0    |\n",
      "|    0     |   0    |\n",
      "|    1     |   1    |\n",
      "|    1     |   1    |\n",
      "|    2     |   1    |\n",
      "|    1     |   1    |\n",
      "|    1     |   1    |\n",
      "+----------+--------+\n"
     ]
    }
   ],
   "source": [
    "## Reduce data for output\n",
    "predictions_min = predictions[0:nbPoints:10]\n",
    "targets_min = targets[0:nbPoints:10]\n",
    "\n",
    "lables = ['expected', 'actual']\n",
    "\n",
    "t = PT(lables)\n",
    "for i in range(nbPoints/10):\n",
    "    t.add_row( [ predictions_min[i], targets_min[i] ] )\n",
    "\n",
    "print(t)"
   ]
  },
  {
   "cell_type": "code",
   "execution_count": 90,
   "metadata": {
    "collapsed": false
   },
   "outputs": [
    {
     "name": "stdout",
     "output_type": "stream",
     "text": [
      "96% accuracy\n"
     ]
    }
   ],
   "source": [
    "# How much accuracy does that account for?\n",
    "# See if we can do better\n",
    "\n",
    "from sklearn import metrics\n",
    "print(str(int(100*metrics.accuracy_score(targets, predictions))) + \"% accuracy\") #nice cast nesting btw"
   ]
  },
  {
   "cell_type": "code",
   "execution_count": null,
   "metadata": {
    "collapsed": true
   },
   "outputs": [],
   "source": []
  }
 ],
 "metadata": {
  "kernelspec": {
   "display_name": "Python 3",
   "language": "python",
   "name": "python3"
  },
  "language_info": {
   "codemirror_mode": {
    "name": "ipython",
    "version": 3
   },
   "file_extension": ".py",
   "mimetype": "text/x-python",
   "name": "python",
   "nbconvert_exporter": "python",
   "pygments_lexer": "ipython3",
   "version": "3.6.0"
  }
 },
 "nbformat": 4,
 "nbformat_minor": 1
}
