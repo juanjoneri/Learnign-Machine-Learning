{
 "cells": [
  {
   "cell_type": "markdown",
   "metadata": {},
   "source": [
    "# First implementation of Nearest Neighbours"
   ]
  },
  {
   "cell_type": "markdown",
   "metadata": {},
   "source": [
    "## Import statements7"
   ]
  },
  {
   "cell_type": "code",
   "execution_count": 6,
   "metadata": {
    "collapsed": true
   },
   "outputs": [],
   "source": [
    "import numpy as np\n",
    "import matplotlib.pyplot as plt"
   ]
  },
  {
   "cell_type": "markdown",
   "metadata": {},
   "source": [
    "## Collect Data\n",
    "### And select subsets for test and train"
   ]
  },
  {
   "cell_type": "code",
   "execution_count": 7,
   "metadata": {
    "collapsed": false
   },
   "outputs": [],
   "source": [
    "my_data = np.genfromtxt('../../ML/mnist_test.csv', delimiter=',')\n",
    "train = my_data[0:999]\n",
    "test = my_data[1000:1100]"
   ]
  },
  {
   "cell_type": "markdown",
   "metadata": {},
   "source": [
    "## Functions from previous notebooks\n",
    "*Reference Find Distance and Print Numberfor further explanation*"
   ]
  },
  {
   "cell_type": "code",
   "execution_count": 8,
   "metadata": {
    "collapsed": true
   },
   "outputs": [],
   "source": [
    "#This one is slightly twaked to accept the char instead of looking for it in the array\n",
    "def getCharacter(char, side=28):\n",
    "    size = side * side\n",
    "    nm = char[0]\n",
    "    pxs = np.zeros(size)\n",
    "    for i in range(1, size + 1):\n",
    "        pxs[i-1] = char[i]\n",
    "    pxs = np.reshape(pxs, (side, side))\n",
    "    pxs = np.fliplr([pxs])[0]\n",
    "    \n",
    "    return nm, pxs\n",
    "\n",
    "def plotCharacter(pxs):\n",
    "    side = pxs.shape[0]\n",
    "    y = x = range(1, side + 1)\n",
    "    x, y = np.meshgrid(x, y)\n",
    "    plt.pcolormesh(x, y, pxs, cmap=plt.cm.get_cmap('Greys'))\n",
    "    plt.colorbar()\n",
    "    plt.show()\n",
    "    \n",
    "def findDistance(pxs1, pxs2, square=False):\n",
    "    if square:\n",
    "        return np.sum(np.square(pxs1 - pxs2))\n",
    "    else:\n",
    "        return np.sum(np.absolute(pxs1 - pxs2))"
   ]
  },
  {
   "cell_type": "markdown",
   "metadata": {},
   "source": [
    "## Function for finding the character with the least distance"
   ]
  },
  {
   "cell_type": "code",
   "execution_count": 9,
   "metadata": {
    "collapsed": true
   },
   "outputs": [],
   "source": [
    "def nearestNeighbour( train, pxs ):\n",
    "    #Give a default value to minDif to then compare and minimize\n",
    "    _, iniChar = getCharacter(train[0])\n",
    "    nearest = train[0]\n",
    "    minDif = findDistance(iniChar, pxs)\n",
    "    #Iterate over the other chars to check which is the single best\n",
    "    for char in train:\n",
    "        _, pxs2 = getCharacter(char)\n",
    "        dif = findDistance(pxs2, pxs)        \n",
    "        if dif < minDif:\n",
    "            minDif = dif\n",
    "            nearest = char\n",
    "            \n",
    "    return nearest"
   ]
  },
  {
   "cell_type": "markdown",
   "metadata": {},
   "source": [
    "## Test Function"
   ]
  },
  {
   "cell_type": "markdown",
   "metadata": {},
   "source": [
    "### Try with a 5"
   ]
  },
  {
   "cell_type": "code",
   "execution_count": 10,
   "metadata": {
    "collapsed": false
   },
   "outputs": [
    {
     "data": {
      "image/png": "[encoded data removed]",
      "text/plain": [
       "<matplotlib.figure.Figure at 0x66687f0>"
      ]
     },
     "metadata": {},
     "output_type": "display_data"
    }
   ],
   "source": [
    "nm, pxs = getCharacter(test[46])\n",
    "plotCharacter(pxs)"
   ]
  },
  {
   "cell_type": "code",
   "execution_count": 11,
   "metadata": {
    "collapsed": false
   },
   "outputs": [
    {
     "name": "stdout",
     "output_type": "stream",
     "text": [
      "5.0\n"
     ]
    }
   ],
   "source": [
    "nearest = nearestNeighbour(train, pxs)\n",
    "value, _ = getCharacter(nearest)\n",
    "print(value)"
   ]
  },
  {
   "cell_type": "markdown",
   "metadata": {},
   "source": [
    "### Try with a 9"
   ]
  },
  {
   "cell_type": "code",
   "execution_count": 12,
   "metadata": {
    "collapsed": false
   },
   "outputs": [
    {
     "data": {
      "image/png": "[encoded data removed]",
      "text/plain": [
       "<matplotlib.figure.Figure at 0x1221fcf0>"
      ]
     },
     "metadata": {},
     "output_type": "display_data"
    }
   ],
   "source": [
    "nm, pxs = getCharacter(test[88])\n",
    "plotCharacter(pxs)"
   ]
  },
  {
   "cell_type": "code",
   "execution_count": 42,
   "metadata": {
    "collapsed": false
   },
   "outputs": [
    {
     "name": "stdout",
     "output_type": "stream",
     "text": [
      "9.0\n"
     ]
    }
   ],
   "source": [
    "nearest = nearestNeighbour(train, pxs)\n",
    "value, _ = getCharacter(nearest)\n",
    "print(value)"
   ]
  },
  {
   "cell_type": "code",
   "execution_count": null,
   "metadata": {
    "collapsed": true
   },
   "outputs": [],
   "source": []
  }
 ],
 "metadata": {
  "kernelspec": {
   "display_name": "Python 3",
   "language": "python",
   "name": "python3"
  },
  "language_info": {
   "codemirror_mode": {
    "name": "ipython",
    "version": 3
   },
   "file_extension": ".py",
   "mimetype": "text/x-python",
   "name": "python",
   "nbconvert_exporter": "python",
   "pygments_lexer": "ipython3",
   "version": "3.5.1"
  }
 },
 "nbformat": 4,
 "nbformat_minor": 1
}
