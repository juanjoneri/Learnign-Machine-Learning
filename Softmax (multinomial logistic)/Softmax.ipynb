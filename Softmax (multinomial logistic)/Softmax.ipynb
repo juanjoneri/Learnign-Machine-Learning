{
 "cells": [
  {
   "cell_type": "markdown",
   "metadata": {
    "deletable": true,
    "editable": true
   },
   "source": [
    "# Softmax\n",
    "-------------------------\n",
    "## notMNIST dataset \n",
    "This is a classic case where a softmax regression is a natural, simple model. If you want to assign probabilities to an object being one of several different things, softmax is the thing to do, in addition when we train more sophisticated models, the final step will be a layer of softmax.\n",
    "\n",
    "## Cross-entropy\n",
    "We will be using the loss of our model with the following function\n",
    "\n",
    "$$ H_{y'}(y) = -\\sum_i y'_i \\log(y_i) $$\n",
    "\n",
    "Where is our predicted probability distribution, and is the true distribution (the one-hot vector with the digit labels).\n"
   ]
  },
  {
   "cell_type": "markdown",
   "metadata": {
    "deletable": true,
    "editable": true
   },
   "source": [
    "### Visualize the dataset...\n",
    "----------------------------"
   ]
  },
  {
   "cell_type": "code",
   "execution_count": 1,
   "metadata": {
    "collapsed": true,
    "deletable": true,
    "editable": true
   },
   "outputs": [],
   "source": [
    "import numpy as np\n",
    "import os"
   ]
  },
  {
   "cell_type": "code",
   "execution_count": 2,
   "metadata": {
    "collapsed": false,
    "deletable": true,
    "editable": true
   },
   "outputs": [
    {
     "name": "stdout",
     "output_type": "stream",
     "text": [
      "./Datasets/notMNIST_small/A/Q2hvY0lDRy5vdGY=.png\n"
     ]
    }
   ],
   "source": [
    "path = \"./Datasets/notMNIST_small/{}/{}\"\n",
    "\n",
    "A = np.array(os.listdir(\"./Datasets/notMNIST_small/A/\"))\n",
    "B = np.array(os.listdir(\"./Datasets/notMNIST_small/B/\"))\n",
    "C = np.array(os.listdir(\"./Datasets/notMNIST_small/C/\"))\n",
    "D = np.array(os.listdir(\"./Datasets/notMNIST_small/D/\"))\n",
    "E = np.array(os.listdir(\"./Datasets/notMNIST_small/E/\"))\n",
    "F = np.array(os.listdir(\"./Datasets/notMNIST_small/F/\"))\n",
    "G = np.array(os.listdir(\"./Datasets/notMNIST_small/G/\"))\n",
    "H = np.array(os.listdir(\"./Datasets/notMNIST_small/H/\"))\n",
    "I = np.array(os.listdir(\"./Datasets/notMNIST_small/I/\"))\n",
    "J = np.array(os.listdir(\"./Datasets/notMNIST_small/J/\"))\n",
    "\n",
    "files = np.stack((A, B, C, D, E, F, G, H, I, J), axis=0)\n",
    "labels = [\"A\", \"B\", \"C\", \"D\", \"E\",\"F\", \"G\", \"H\", \"I\", \"J\"]\n",
    "\n",
    "## The above ar np arrays holding the names of the files that contains each of the letters in notMNIST\n",
    "print (path.format(\"A\", A[5]))"
   ]
  },
  {
   "cell_type": "code",
   "execution_count": 3,
   "metadata": {
    "collapsed": false,
    "deletable": true,
    "editable": true
   },
   "outputs": [
    {
     "data": {
      "image/png": "[encoded data removed]",
      "text/plain": [
       "<PIL.PngImagePlugin.PngImageFile image mode=L size=28x28 at 0x7F3D9C0496A0>"
      ]
     },
     "execution_count": 3,
     "metadata": {},
     "output_type": "execute_result"
    }
   ],
   "source": [
    "## Take a look at the images\n",
    "from PIL import Image\n",
    "im = Image.open(path.format(\"A\", A[5]))\n",
    "im"
   ]
  },
  {
   "cell_type": "code",
   "execution_count": 4,
   "metadata": {
    "collapsed": false,
    "deletable": true,
    "editable": true
   },
   "outputs": [
    {
     "data": {
      "text/plain": [
       "(784,)"
      ]
     },
     "execution_count": 4,
     "metadata": {},
     "output_type": "execute_result"
    }
   ],
   "source": [
    "def getPixels(im):\n",
    "    pixels = list(im.getdata())\n",
    "    width, height = im.size\n",
    "    return np.array([pixels[i * width:(i + 1) * width] for i in range(height)]).reshape(width * height)\n",
    "\n",
    "getPixels(im).shape"
   ]
  },
  {
   "cell_type": "code",
   "execution_count": 5,
   "metadata": {
    "collapsed": false,
    "deletable": true,
    "editable": true
   },
   "outputs": [
    {
     "data": {
      "text/plain": [
       "array([[  0,   0,   2, ..., 252, 255, 181],\n",
       "       [  0,   1,   1, ..., 255, 255, 147],\n",
       "       [  0,   0,   0, ..., 255, 255, 255],\n",
       "       ..., \n",
       "       [  0,   0,   0, ..., 246, 252, 206],\n",
       "       [  0,   0,   0, ...,   0,   3,   1],\n",
       "       [  0,   0,   0, ..., 253, 255, 108]])"
      ]
     },
     "execution_count": 5,
     "metadata": {},
     "output_type": "execute_result"
    }
   ],
   "source": [
    "def retrieveImages (array, letter):\n",
    "    return np.array([getPixels(Image.open(path.format(letter, fname))) for fname in array])\n",
    "\n",
    "retrieveImages(A, \"A\")"
   ]
  },
  {
   "cell_type": "code",
   "execution_count": 48,
   "metadata": {
    "collapsed": false,
    "deletable": true,
    "editable": true
   },
   "outputs": [
    {
     "data": {
      "text/plain": [
       "(10, 1873, 784)"
      ]
     },
     "execution_count": 48,
     "metadata": {},
     "output_type": "execute_result"
    }
   ],
   "source": [
    "# Finally, all is ready to make our trainig matrix!\n",
    "data = np.stack((retrieveImages(files[i], labels[i]) for i in range(10)), axis=0)\n",
    "## 10 classes | 1873 examples of each | 784 pixels/dimensions\n",
    "data.shape"
   ]
  },
  {
   "cell_type": "code",
   "execution_count": 55,
   "metadata": {
    "collapsed": false
   },
   "outputs": [
    {
     "data": {
      "text/plain": [
       "array([[0, 0, 0, ..., 2, 0, 0],\n",
       "       [0, 0, 0, ..., 5, 4, 2],\n",
       "       [0, 0, 0, ..., 0, 0, 0],\n",
       "       ..., \n",
       "       [0, 0, 0, ..., 0, 0, 0],\n",
       "       [0, 0, 0, ..., 0, 0, 0],\n",
       "       [0, 0, 0, ..., 0, 0, 0]])"
      ]
     },
     "execution_count": 55,
     "metadata": {},
     "output_type": "execute_result"
    }
   ],
   "source": [
    "data[9]"
   ]
  },
  {
   "cell_type": "code",
   "execution_count": 54,
   "metadata": {
    "collapsed": false
   },
   "outputs": [
    {
     "data": {
      "text/plain": [
       "array([[0, 0, 0, ..., 2, 0, 0],\n",
       "       [0, 0, 0, ..., 5, 4, 2],\n",
       "       [0, 0, 0, ..., 0, 0, 0],\n",
       "       ..., \n",
       "       [0, 0, 0, ..., 0, 0, 0],\n",
       "       [0, 0, 0, ..., 0, 0, 0],\n",
       "       [0, 0, 0, ..., 0, 0, 0]])"
      ]
     },
     "execution_count": 54,
     "metadata": {},
     "output_type": "execute_result"
    }
   ],
   "source": [
    "retrieveImages(J, \"J\")"
   ]
  },
  {
   "cell_type": "code",
   "execution_count": 56,
   "metadata": {
    "collapsed": false,
    "deletable": true,
    "editable": true
   },
   "outputs": [
    {
     "data": {
      "text/plain": [
       "array([ 0.,  0.,  0.,  0.,  0.,  0.,  0.,  0.,  0.,  1.])"
      ]
     },
     "execution_count": 56,
     "metadata": {},
     "output_type": "execute_result"
    }
   ],
   "source": [
    "classes = np.diag(np.ones(10))\n",
    "classes[9]"
   ]
  },
  {
   "cell_type": "markdown",
   "metadata": {
    "deletable": true,
    "editable": true
   },
   "source": [
    "## We're now ready to actually make our model!\n",
    "------------------\n",
    "A softmax regression has two steps: first we add up the evidence of our input being in certain classes, and then we convert that evidence into probabilities.\n",
    "\n",
    "To tally up the evidence that a given image is in a particular class, we do a weighted sum of the pixel intensities. The weight is negative if that pixel having a high intensity is evidence against the image being in that class, and positive if it is evidence in favor.\n",
    "\n",
    "$$ \\text{evidence}_i = \\sum_j W_{i,~ j} x_j + b_i $$\n",
    "\n",
    "We then convert the evidence tallies into our predicted probabilities using the \"softmax\" function:\n",
    "\n",
    "$$ y_i = \\text{softmax}(\\text{evidence}_i) = \\frac{\\exp(x_i)}{\\sum_j \\exp(x_j)} $$"
   ]
  },
  {
   "cell_type": "code",
   "execution_count": 8,
   "metadata": {
    "collapsed": true,
    "deletable": true,
    "editable": true
   },
   "outputs": [],
   "source": [
    "# Feels good\n",
    "import tensorflow as tf"
   ]
  },
  {
   "cell_type": "code",
   "execution_count": 38,
   "metadata": {
    "collapsed": false,
    "deletable": true,
    "editable": true
   },
   "outputs": [],
   "source": [
    "x = tf.placeholder(tf.float32, [None, 784])\n",
    "# x isn't a specific value. It's a placeholder, a value that we'll input when we ask TensorFlow to run a computation. \n",
    "# We want to be able to input any number of images, each flattened into a 784-dimensional vector\n",
    "\n",
    "W = tf.Variable(tf.zeros([784, 10]))\n",
    "b = tf.Variable(tf.zeros([10]))\n",
    "# Variable. A Variable is a modifiable tensor that lives in TensorFlow's graph of interacting operations. \n",
    "# It can be used and even modified by the computation. \n",
    "# For machine learning applications, one generally has the model parameters be Variables."
   ]
  },
  {
   "cell_type": "code",
   "execution_count": 39,
   "metadata": {
    "collapsed": true,
    "deletable": true,
    "editable": true
   },
   "outputs": [],
   "source": [
    "# implement our model\n",
    "y = tf.nn.softmax(tf.matmul(x, W) + b)"
   ]
  },
  {
   "cell_type": "markdown",
   "metadata": {
    "deletable": true,
    "editable": true
   },
   "source": [
    "## Train the model\n",
    "---------------\n",
    "Recall our loss function will be cross-entropy:\n",
    "$$ H_{y'}(y) = -\\sum_i y'_i \\log(y_i) $$\n",
    "Where y is our predicted probability distribution, and y' is the true distribution (the one-hot vector with the digit labels). In some rough sense, the cross-entropy is measuring how inefficient our predictions are for describing the truth"
   ]
  },
  {
   "cell_type": "code",
   "execution_count": 104,
   "metadata": {
    "collapsed": true,
    "deletable": true,
    "editable": true
   },
   "outputs": [],
   "source": [
    "# placeholder to input the correct answers\n",
    "y_ = tf.placeholder(tf.float32, [None, 10])\n",
    "# define loss function\n",
    "#cross_entropy = tf.reduce_mean(-tf.reduce_sum(y_ * tf.log(y), reduction_indices=[1]))\n",
    "cross_entropy = -tf.reduce_sum(y_*tf.log(tf.clip_by_value(y,1e-10,1.0)))\n",
    "\n",
    "# train using the gradient descent algorithm with a learning rate of 0.5.\n",
    "train_step = tf.train.GradientDescentOptimizer(0.5).minimize(cross_entropy)"
   ]
  },
  {
   "cell_type": "code",
   "execution_count": 105,
   "metadata": {
    "collapsed": false,
    "deletable": true,
    "editable": true
   },
   "outputs": [],
   "source": [
    "def getBatch (i, n):\n",
    "    # i is the letter from which we want the random sample\n",
    "    # n is the number of samples\n",
    "    \n",
    "    # will return n random examples of letters in notMNST and its labels\n",
    "    xs = data[i][np.random.randint(data[i].shape[0], size=n), :]\n",
    "    ys = np.repeat([classes[i]], n, axis = 0)\n",
    "    return xs, ys\n",
    "\n",
    "def getGeneralBatch (n):\n",
    "    #will return a batch with batches of n/10 the size for every class\n",
    "    #long story short, a random batch containing 1/10 intances of every class\n",
    "    nc = 10 #number of classes\n",
    "    \n",
    "    xs, ys = getBatch(0, int(n/nc))\n",
    "    for i in range(1, nc):\n",
    "        newXs, newYs = getBatch(i, int(n/nc))\n",
    "        xs = np.concatenate((xs, newXs))\n",
    "        ys = np.concatenate((ys, newYs))\n",
    "        \n",
    "    return xs, ys\n",
    "    "
   ]
  },
  {
   "cell_type": "code",
   "execution_count": 106,
   "metadata": {
    "collapsed": false,
    "deletable": true,
    "editable": true
   },
   "outputs": [],
   "source": [
    "xs, ys = getGeneralBatch(100)"
   ]
  },
  {
   "cell_type": "code",
   "execution_count": 107,
   "metadata": {
    "collapsed": true
   },
   "outputs": [],
   "source": [
    "import matplotlib.pyplot as plt\n",
    "def plotChar(pxs):\n",
    "    side = pxs.shape[0]\n",
    "    y = x = range(1, side + 1)\n",
    "    x, y = np.meshgrid(x, y)\n",
    "    plt.pcolormesh(x, y, pxs, cmap=plt.cm.get_cmap('Greys'))\n",
    "    plt.colorbar()\n",
    "    plt.show()"
   ]
  },
  {
   "cell_type": "code",
   "execution_count": 128,
   "metadata": {
    "collapsed": false,
    "deletable": true,
    "editable": true
   },
   "outputs": [
    {
     "data": {
      "image/png": "[encoded data removed]",
      "text/plain": [
       "<matplotlib.figure.Figure at 0x7f3d88069320>"
      ]
     },
     "metadata": {},
     "output_type": "display_data"
    }
   ],
   "source": [
    "plotChar(xs[52].reshape((28,28)))"
   ]
  },
  {
   "cell_type": "code",
   "execution_count": 109,
   "metadata": {
    "collapsed": false,
    "deletable": true,
    "editable": true
   },
   "outputs": [
    {
     "data": {
      "text/plain": [
       "array([ 0.,  0.,  0.,  0.,  0.,  1.,  0.,  0.,  0.,  0.])"
      ]
     },
     "execution_count": 109,
     "metadata": {},
     "output_type": "execute_result"
    }
   ],
   "source": [
    "ys[55]"
   ]
  },
  {
   "cell_type": "code",
   "execution_count": 152,
   "metadata": {
    "collapsed": true
   },
   "outputs": [],
   "source": [
    "# for testing the accuracy of the model\n",
    "correct_prediction = tf.equal(tf.argmax(y,1), tf.argmax(y_,1))\n",
    "accuracy = tf.reduce_mean(tf.cast(correct_prediction, tf.float32))\n",
    "test_xs, test_ys = getGeneralBatch(100)"
   ]
  },
  {
   "cell_type": "code",
   "execution_count": null,
   "metadata": {
    "collapsed": false,
    "deletable": true,
    "editable": true
   },
   "outputs": [],
   "source": [
    "sess = tf.InteractiveSession()\n",
    "tf.global_variables_initializer().run()\n",
    "\n",
    "for iter in range(5000):\n",
    "    batch_xs, batch_ys = getGeneralBatch(1000)\n",
    "    sess.run(train_step, feed_dict={x: batch_xs, y_: batch_ys})"
   ]
  },
  {
   "cell_type": "code",
   "execution_count": 139,
   "metadata": {
    "collapsed": false,
    "deletable": true,
    "editable": true
   },
   "outputs": [
    {
     "name": "stdout",
     "output_type": "stream",
     "text": [
      "[-5092.89990234  3256.6003418  -5479.89990234  4474.60009766  2366.60131836\n",
      "  3581.59887695 -4774.39990234  3947.09838867  3223.10058594 -5502.39990234]\n"
     ]
    }
   ],
   "source": [
    "print(sess.run(W)[0])"
   ]
  },
  {
   "cell_type": "code",
   "execution_count": 140,
   "metadata": {
    "collapsed": false
   },
   "outputs": [
    {
     "name": "stdout",
     "output_type": "stream",
     "text": [
      "-0.000993706\n"
     ]
    }
   ],
   "source": [
    "print(sess.run(b)[0])"
   ]
  },
  {
   "cell_type": "code",
   "execution_count": 153,
   "metadata": {
    "collapsed": false
   },
   "outputs": [
    {
     "name": "stdout",
     "output_type": "stream",
     "text": [
      "%55\n"
     ]
    }
   ],
   "source": [
    "print(\"%{}\".format(int(sess.run(accuracy, feed_dict={x: test_xs, y_: test_ys}) * 100)))"
   ]
  },
  {
   "cell_type": "code",
   "execution_count": null,
   "metadata": {
    "collapsed": true
   },
   "outputs": [],
   "source": []
  }
 ],
 "metadata": {
  "kernelspec": {
   "display_name": "Python 3",
   "language": "python",
   "name": "python3"
  },
  "language_info": {
   "codemirror_mode": {
    "name": "ipython",
    "version": 3
   },
   "file_extension": ".py",
   "mimetype": "text/x-python",
   "name": "python",
   "nbconvert_exporter": "python",
   "pygments_lexer": "ipython3",
   "version": "3.5.2"
  }
 },
 "nbformat": 4,
 "nbformat_minor": 2
}
