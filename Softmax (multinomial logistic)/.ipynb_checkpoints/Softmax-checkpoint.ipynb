{
 "cells": [
  {
   "cell_type": "markdown",
   "metadata": {
    "deletable": true,
    "editable": true
   },
   "source": [
    "# Softmax\n",
    "-------------------------\n",
    "## notMNIST dataset \n",
    "This is a classic case where a softmax regression is a natural, simple model. If you want to assign probabilities to an object being one of several different things, softmax is the thing to do, in addition when we train more sophisticated models, the final step will be a layer of softmax.\n",
    "\n",
    "## Cross-entropy\n",
    "We will be using the loss of our model with the following function\n",
    "\n",
    "$$ H_{y'}(y) = -\\sum_i y'_i \\log(y_i) $$\n",
    "\n",
    "Where is our predicted probability distribution, and is the true distribution (the one-hot vector with the digit labels).\n"
   ]
  },
  {
   "cell_type": "markdown",
   "metadata": {
    "deletable": true,
    "editable": true
   },
   "source": [
    "### Visualize the dataset...\n",
    "----------------------------"
   ]
  },
  {
   "cell_type": "code",
   "execution_count": 1,
   "metadata": {
    "collapsed": true,
    "deletable": true,
    "editable": true
   },
   "outputs": [],
   "source": [
    "import numpy as np\n",
    "import os"
   ]
  },
  {
   "cell_type": "code",
   "execution_count": 9,
   "metadata": {
    "collapsed": false,
    "deletable": true,
    "editable": true
   },
   "outputs": [
    {
     "name": "stdout",
     "output_type": "stream",
     "text": [
      "./Datasets/notMNIST_small/A/Q2hvY0lDRy5vdGY=.png\n"
     ]
    }
   ],
   "source": [
    "path = \"./Datasets/notMNIST_small/{}/{}\"\n",
    "\n",
    "A = np.array(os.listdir(\"./Datasets/notMNIST_small/A/\"))\n",
    "B = np.array(os.listdir(\"./Datasets/notMNIST_small/B/\"))\n",
    "C = np.array(os.listdir(\"./Datasets/notMNIST_small/C/\"))\n",
    "D = np.array(os.listdir(\"./Datasets/notMNIST_small/D/\"))\n",
    "E = np.array(os.listdir(\"./Datasets/notMNIST_small/E/\"))\n",
    "F = np.array(os.listdir(\"./Datasets/notMNIST_small/F/\"))\n",
    "G = np.array(os.listdir(\"./Datasets/notMNIST_small/G/\"))\n",
    "H = np.array(os.listdir(\"./Datasets/notMNIST_small/H/\"))\n",
    "I = np.array(os.listdir(\"./Datasets/notMNIST_small/I/\"))\n",
    "J = np.array(os.listdir(\"./Datasets/notMNIST_small/J/\"))\n",
    "\n",
    "files = np.stack((A, B, C, D, E, F, G, H, I, J), axis=0)\n",
    "labels = [\"A\", \"B\", \"C\", \"D\", \"E\",\"F\", \"G\", \"H\", \"I\", \"J\"]\n",
    "\n",
    "## The above ar np arrays holding the names of the files that contains each of the letters in notMNIST\n",
    "print (path.format(\"A\", A[5]))"
   ]
  },
  {
   "cell_type": "code",
   "execution_count": 3,
   "metadata": {
    "collapsed": false,
    "deletable": true,
    "editable": true
   },
   "outputs": [
    {
     "data": {
      "image/png": "[encoded data removed]",
      "text/plain": [
       "<PIL.PngImagePlugin.PngImageFile image mode=L size=28x28 at 0x7F413857E828>"
      ]
     },
     "execution_count": 3,
     "metadata": {},
     "output_type": "execute_result"
    }
   ],
   "source": [
    "## Take a look at the images\n",
    "from PIL import Image\n",
    "im = Image.open(path.format(\"A\", A[5]))\n",
    "im"
   ]
  },
  {
   "cell_type": "code",
   "execution_count": 4,
   "metadata": {
    "collapsed": false,
    "deletable": true,
    "editable": true
   },
   "outputs": [
    {
     "data": {
      "text/plain": [
       "(784,)"
      ]
     },
     "execution_count": 4,
     "metadata": {},
     "output_type": "execute_result"
    }
   ],
   "source": [
    "def getPixels(im):\n",
    "    pixels = list(im.getdata())\n",
    "    width, height = im.size\n",
    "    return np.array([pixels[i * width:(i + 1) * width] for i in range(height)]).reshape(width * height)\n",
    "\n",
    "getPixels(im).shape"
   ]
  },
  {
   "cell_type": "code",
   "execution_count": 5,
   "metadata": {
    "collapsed": false,
    "deletable": true,
    "editable": true
   },
   "outputs": [
    {
     "data": {
      "text/plain": [
       "array([[  0,   0,   2, ..., 252, 255, 181],\n",
       "       [  0,   1,   1, ..., 255, 255, 147],\n",
       "       [  0,   0,   0, ..., 255, 255, 255],\n",
       "       ..., \n",
       "       [  0,   0,   0, ..., 246, 252, 206],\n",
       "       [  0,   0,   0, ...,   0,   3,   1],\n",
       "       [  0,   0,   0, ..., 253, 255, 108]])"
      ]
     },
     "execution_count": 5,
     "metadata": {},
     "output_type": "execute_result"
    }
   ],
   "source": [
    "def retrieveImages (array, letter):\n",
    "    return np.array([getPixels(Image.open(path.format(letter, fname))) for fname in array])\n",
    "\n",
    "retrieveImages(A, \"A\")"
   ]
  },
  {
   "cell_type": "code",
   "execution_count": 10,
   "metadata": {
    "collapsed": false,
    "deletable": true,
    "editable": true
   },
   "outputs": [],
   "source": [
    "# Finally, all is ready to make our trainig matrix!\n",
    "data = np.stack((retrieveImages(files[i], labels[i]) for i in range(10)), axis=0)"
   ]
  },
  {
   "cell_type": "code",
   "execution_count": 11,
   "metadata": {
    "collapsed": false,
    "deletable": true,
    "editable": true
   },
   "outputs": [
    {
     "data": {
      "text/plain": [
       "(10, 1873, 784)"
      ]
     },
     "execution_count": 11,
     "metadata": {},
     "output_type": "execute_result"
    }
   ],
   "source": [
    "data.shape"
   ]
  },
  {
   "cell_type": "code",
   "execution_count": null,
   "metadata": {
    "collapsed": true
   },
   "outputs": [],
   "source": []
  }
 ],
 "metadata": {
  "kernelspec": {
   "display_name": "Python 3",
   "language": "python",
   "name": "python3"
  },
  "language_info": {
   "codemirror_mode": {
    "name": "ipython",
    "version": 3
   },
   "file_extension": ".py",
   "mimetype": "text/x-python",
   "name": "python",
   "nbconvert_exporter": "python",
   "pygments_lexer": "ipython3",
   "version": "3.5.2"
  }
 },
 "nbformat": 4,
 "nbformat_minor": 2
}
