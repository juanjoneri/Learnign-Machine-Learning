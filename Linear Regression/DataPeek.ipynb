{
 "cells": [
  {
   "cell_type": "markdown",
   "metadata": {},
   "source": [
    "# See what the data looks like and try to plot it in some way"
   ]
  },
  {
   "cell_type": "markdown",
   "metadata": {},
   "source": [
    "## Description by original src *Andrew Ng*\n",
    "> area_br_price.txt contains a training set of housing prices in Port-\n",
    "land, Oregon. The .rst column is the size of the house (in square feet), the\n",
    "second column is the number of bedrooms, and the third column is the price\n",
    "of the house."
   ]
  },
  {
   "cell_type": "markdown",
   "metadata": {},
   "source": [
    "### Import libraries"
   ]
  },
  {
   "cell_type": "code",
   "execution_count": 1,
   "metadata": {
    "collapsed": true
   },
   "outputs": [],
   "source": [
    "import numpy as np\n",
    "import matplotlib.pyplot as plt"
   ]
  },
  {
   "cell_type": "markdown",
   "metadata": {},
   "source": [
    "### Import the data"
   ]
  },
  {
   "cell_type": "code",
   "execution_count": 5,
   "metadata": {
    "collapsed": false
   },
   "outputs": [
    {
     "data": {
      "text/plain": [
       "array([[  2.10400000e+03,   3.00000000e+00,   3.99900000e+05],\n",
       "       [  1.60000000e+03,   3.00000000e+00,   3.29900000e+05],\n",
       "       [  2.40000000e+03,   3.00000000e+00,   3.69000000e+05],\n",
       "       [  1.41600000e+03,   2.00000000e+00,   2.32000000e+05],\n",
       "       [  3.00000000e+03,   4.00000000e+00,   5.39900000e+05],\n",
       "       [  1.98500000e+03,   4.00000000e+00,   2.99900000e+05],\n",
       "       [  1.53400000e+03,   3.00000000e+00,   3.14900000e+05],\n",
       "       [  1.42700000e+03,   3.00000000e+00,   1.98999000e+05],\n",
       "       [  1.38000000e+03,   3.00000000e+00,   2.12000000e+05],\n",
       "       [  1.49400000e+03,   3.00000000e+00,   2.42500000e+05],\n",
       "       [  1.94000000e+03,   4.00000000e+00,   2.39999000e+05],\n",
       "       [  2.00000000e+03,   3.00000000e+00,   3.47000000e+05],\n",
       "       [  1.89000000e+03,   3.00000000e+00,   3.29999000e+05],\n",
       "       [  4.47800000e+03,   5.00000000e+00,   6.99900000e+05],\n",
       "       [  1.26800000e+03,   3.00000000e+00,   2.59900000e+05],\n",
       "       [  2.30000000e+03,   4.00000000e+00,   4.49900000e+05],\n",
       "       [  1.32000000e+03,   2.00000000e+00,   2.99900000e+05],\n",
       "       [  1.23600000e+03,   3.00000000e+00,   1.99900000e+05],\n",
       "       [  2.60900000e+03,   4.00000000e+00,   4.99998000e+05],\n",
       "       [  3.03100000e+03,   4.00000000e+00,   5.99000000e+05],\n",
       "       [  1.76700000e+03,   3.00000000e+00,   2.52900000e+05],\n",
       "       [  1.88800000e+03,   2.00000000e+00,   2.55000000e+05],\n",
       "       [  1.60400000e+03,   3.00000000e+00,   2.42900000e+05],\n",
       "       [  1.96200000e+03,   4.00000000e+00,   2.59900000e+05],\n",
       "       [  3.89000000e+03,   3.00000000e+00,   5.73900000e+05],\n",
       "       [  1.10000000e+03,   3.00000000e+00,   2.49900000e+05],\n",
       "       [  1.45800000e+03,   3.00000000e+00,   4.64500000e+05],\n",
       "       [  2.52600000e+03,   3.00000000e+00,   4.69000000e+05],\n",
       "       [  2.20000000e+03,   3.00000000e+00,   4.75000000e+05],\n",
       "       [  2.63700000e+03,   3.00000000e+00,   2.99900000e+05],\n",
       "       [  1.83900000e+03,   2.00000000e+00,   3.49900000e+05],\n",
       "       [  1.00000000e+03,   1.00000000e+00,   1.69900000e+05],\n",
       "       [  2.04000000e+03,   4.00000000e+00,   3.14900000e+05],\n",
       "       [  3.13700000e+03,   3.00000000e+00,   5.79900000e+05],\n",
       "       [  1.81100000e+03,   4.00000000e+00,   2.85900000e+05],\n",
       "       [  1.43700000e+03,   3.00000000e+00,   2.49900000e+05],\n",
       "       [  1.23900000e+03,   3.00000000e+00,   2.29900000e+05],\n",
       "       [  2.13200000e+03,   4.00000000e+00,   3.45000000e+05],\n",
       "       [  4.21500000e+03,   4.00000000e+00,   5.49000000e+05],\n",
       "       [  2.16200000e+03,   4.00000000e+00,   2.87000000e+05],\n",
       "       [  1.66400000e+03,   2.00000000e+00,   3.68500000e+05],\n",
       "       [  2.23800000e+03,   3.00000000e+00,   3.29900000e+05],\n",
       "       [  2.56700000e+03,   4.00000000e+00,   3.14000000e+05],\n",
       "       [  1.20000000e+03,   3.00000000e+00,   2.99000000e+05],\n",
       "       [  8.52000000e+02,   2.00000000e+00,   1.79900000e+05],\n",
       "       [  1.85200000e+03,   4.00000000e+00,   2.99900000e+05],\n",
       "       [  1.20300000e+03,   3.00000000e+00,   2.39500000e+05]])"
      ]
     },
     "execution_count": 5,
     "metadata": {},
     "output_type": "execute_result"
    }
   ],
   "source": [
    "house_data = np.genfromtxt('./Datasets/area_br_price.txt', delimiter=',')\n",
    "house_data"
   ]
  },
  {
   "cell_type": "code",
   "execution_count": null,
   "metadata": {
    "collapsed": true
   },
   "outputs": [],
   "source": []
  }
 ],
 "metadata": {
  "kernelspec": {
   "display_name": "Python 3",
   "language": "python",
   "name": "python3"
  },
  "language_info": {
   "codemirror_mode": {
    "name": "ipython",
    "version": 3
   },
   "file_extension": ".py",
   "mimetype": "text/x-python",
   "name": "python",
   "nbconvert_exporter": "python",
   "pygments_lexer": "ipython3",
   "version": "3.5.1"
  }
 },
 "nbformat": 4,
 "nbformat_minor": 1
}
