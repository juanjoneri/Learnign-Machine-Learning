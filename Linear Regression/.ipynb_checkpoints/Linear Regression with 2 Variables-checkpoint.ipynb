{
 "cells": [
  {
   "cell_type": "markdown",
   "metadata": {},
   "source": [
    "# Use house data to predict other prices using linear regression in 3D!"
   ]
  },
  {
   "cell_type": "markdown",
   "metadata": {},
   "source": [
    "## Import libraries and data"
   ]
  },
  {
   "cell_type": "code",
   "execution_count": 10,
   "metadata": {
    "collapsed": false
   },
   "outputs": [
    {
     "data": {
      "text/plain": [
       "array([  2.10400000e+03,   3.00000000e+00,   3.99900000e+05])"
      ]
     },
     "execution_count": 10,
     "metadata": {},
     "output_type": "execute_result"
    }
   ],
   "source": [
    "import numpy as np\n",
    "import matplotlib.pyplot as plt\n",
    "\n",
    "house_data = np.genfromtxt('./Datasets/area_br_price.txt', delimiter=',')\n",
    "house_data[0]\n",
    "# Data is grupued by house which is what we want i think, except for the price (Y_0)"
   ]
  },
  {
   "cell_type": "markdown",
   "metadata": {},
   "source": [
    "## Define features matrix **'X'** and expected values matrix **'Y'**\n",
    "### We also prepend a 1 to every entry en X as dictated by linear regression heuristics"
   ]
  },
  {
   "cell_type": "code",
   "execution_count": 12,
   "metadata": {
    "collapsed": false
   },
   "outputs": [
    {
     "data": {
      "text/plain": [
       "array([  1.00000000e+00,   2.10400000e+03,   3.00000000e+00])"
      ]
     },
     "execution_count": 12,
     "metadata": {},
     "output_type": "execute_result"
    }
   ],
   "source": [
    "X = np.delete(house_data, 2, 1)\n",
    "Y = np.delete(house_data, [0,1], 1)\n",
    "# this will insert value 1 at positions 0 of X's axis 1\n",
    "# very nice that np has this feature!\n",
    "X = np.insert(X, 0, 1, axis=1)\n",
    "X[0]"
   ]
  },
  {
   "cell_type": "markdown",
   "metadata": {},
   "source": [
    "## Normalize features matrix"
   ]
  },
  {
   "cell_type": "code",
   "execution_count": 6,
   "metadata": {
    "collapsed": false
   },
   "outputs": [
    {
     "data": {
      "text/plain": [
       "(47, 3)"
      ]
     },
     "execution_count": 6,
     "metadata": {},
     "output_type": "execute_result"
    }
   ],
   "source": [
    "np.shape(X)"
   ]
  },
  {
   "cell_type": "code",
   "execution_count": 21,
   "metadata": {
    "collapsed": false
   },
   "outputs": [
    {
     "data": {
      "text/plain": [
       "array([ 1.        ,  0.02849397, -0.04255319])"
      ]
     },
     "execution_count": 21,
     "metadata": {},
     "output_type": "execute_result"
    }
   ],
   "source": [
    "def normalizeFeatures (X):\n",
    "    for i in range(1, np.shape(X)[1]):\n",
    "        # isolate one of the features and normalize it\n",
    "        feature = X.T[i]\n",
    "        feature -= np.average(feature)\n",
    "        feature /= (np.amax(feature) - np.amin(feature))\n",
    "        \n",
    "normalizeFeatures(X)\n",
    "X[0]"
   ]
  },
  {
   "cell_type": "markdown",
   "metadata": {},
   "source": [
    "## We now only need our hypothesis vector\n",
    "### We will use this vector to get an estimate of the price of the house, we will have to tweak the vectors entries (3 in this case) so that the results match the prices given by house_data ('Y')\n",
    "> In order to develop intuition about this function, we can think about θ0 as the basic price of a house, θ1 as the price per square meter, θ2 as the price per floor, etc. x1 will be the number of square meters in the house, x2 the number of floors, etc."
   ]
  },
  {
   "cell_type": "code",
   "execution_count": 47,
   "metadata": {
    "collapsed": false
   },
   "outputs": [
    {
     "name": "stdout",
     "output_type": "stream",
     "text": [
      "47\n"
     ]
    },
    {
     "data": {
      "text/plain": [
       "131182348930.81769"
      ]
     },
     "execution_count": 47,
     "metadata": {},
     "output_type": "execute_result"
    }
   ],
   "source": [
    "# thetaV is a vector with the dimensions of the number of parameters + 1\n",
    "# X is the features matrix (columns with 1, size, room nb)\n",
    "# Y is the vector holding the real values (price)\n",
    "def costFunction (thetaV, X, Y):\n",
    "    #Yt is the vector with the values that i think are correct\n",
    "    dataPints = np.shape(Y)[0]\n",
    "    Yt = np.dot(X, thetaV)\n",
    "    Yt = Yt.reshape(dataPints, 1) #change shape so it will match Y as a column (T would not work)\n",
    "    dif = Yt - Y\n",
    "    sq = np.square(dif)\n",
    "    sm = np.sum(sq)\n",
    "    avg = sm / dataPints\n",
    "    cost = avg\n",
    "    return cost\n",
    "\n",
    "costFunction(np.array([1,1,1]), X, Y)"
   ]
  },
  {
   "cell_type": "code",
   "execution_count": 40,
   "metadata": {
    "collapsed": false
   },
   "outputs": [],
   "source": [
    "hola = np.dot(X, np.array([0.01,0.1,0.1]))\n",
    "hola = hola.reshape(np.shape(hola)[0], 1)"
   ]
  },
  {
   "cell_type": "code",
   "execution_count": 43,
   "metadata": {
    "collapsed": false
   },
   "outputs": [
    {
     "data": {
      "text/plain": [
       "6165604889667.0068"
      ]
     },
     "execution_count": 43,
     "metadata": {},
     "output_type": "execute_result"
    }
   ],
   "source": [
    "np.sum(np.square(hola - Y))"
   ]
  },
  {
   "cell_type": "code",
   "execution_count": 44,
   "metadata": {
    "collapsed": false
   },
   "outputs": [
    {
     "data": {
      "text/plain": [
       "(47, 1)"
      ]
     },
     "execution_count": 44,
     "metadata": {},
     "output_type": "execute_result"
    }
   ],
   "source": [
    "np.shape(Y)"
   ]
  },
  {
   "cell_type": "code",
   "execution_count": null,
   "metadata": {
    "collapsed": true
   },
   "outputs": [],
   "source": []
  }
 ],
 "metadata": {
  "kernelspec": {
   "display_name": "Python 3",
   "language": "python",
   "name": "python3"
  },
  "language_info": {
   "codemirror_mode": {
    "name": "ipython",
    "version": 3
   },
   "file_extension": ".py",
   "mimetype": "text/x-python",
   "name": "python",
   "nbconvert_exporter": "python",
   "pygments_lexer": "ipython3",
   "version": "3.5.1"
  }
 },
 "nbformat": 4,
 "nbformat_minor": 1
}
