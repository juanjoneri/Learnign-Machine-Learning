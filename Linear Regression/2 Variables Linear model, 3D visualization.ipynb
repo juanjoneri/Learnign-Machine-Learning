{
 "cells": [
  {
   "cell_type": "markdown",
   "metadata": {},
   "source": [
    "# Continuation of Linear Regression with 2 variables\n",
    "## Now we wish to find the values for our model using a 3d plot"
   ]
  },
  {
   "cell_type": "code",
   "execution_count": 4,
   "metadata": {
    "collapsed": false
   },
   "outputs": [],
   "source": [
    "import numpy as np\n",
    "import matplotlib.pyplot as plt\n",
    "from prettytable import PrettyTable\n",
    "from mpl_toolkits.mplot3d import Axes3D\n",
    "\n",
    "house_data = np.genfromtxt('./Datasets/area_br_price.txt', delimiter=',')\n",
    "X = np.delete(house_data, 2, 1)\n",
    "X = np.insert(X, 0, 1, axis=1)\n",
    "Y = np.delete(house_data, [0,1], 1)\n",
    "\n",
    "def normalizeFeatures (X):\n",
    "    for i in range(1, np.shape(X)[1]):\n",
    "        # isolate one of the features and normalize it\n",
    "        feature = X.T[i]\n",
    "        feature -= np.average(feature)\n",
    "        feature /= (np.amax(feature) - np.amin(feature))\n",
    "        \n",
    "normalizeFeatures(X)\n",
    "\n",
    "# Recall that thetaV looked l ike [350000,600000,-50000]\n",
    "# However we wish ot improve that \n",
    "def costFunction (thetaV, X, Y):\n",
    "    #Yt is the vector with the values that i think are correct\n",
    "    dataPints = np.shape(Y)[0]\n",
    "    Yt = np.dot(X, thetaV)\n",
    "    Yt = Yt.reshape(dataPints, 1) #change shape so it will match Y as a column (T would not work)\n",
    "    dif = Yt - Y\n",
    "    sq = np.sqrt(np.square(dif))\n",
    "    sm = np.sum(sq)\n",
    "    avg = sm / dataPints\n",
    "    cost = avg\n",
    "    return cost # more or less represents how far away we are in avg to the real value"
   ]
  },
  {
   "cell_type": "markdown",
   "metadata": {},
   "source": [
    "## Use Axes3D to plot the cost as a function of th1 and th2, leaving th0 constant"
   ]
  },
  {
   "cell_type": "code",
   "execution_count": null,
   "metadata": {
    "collapsed": false
   },
   "outputs": [],
   "source": [
    "x_min = 570000\n",
    "x_max = 610000\n",
    "x_step = 50\n",
    "\n",
    "y_min = -140000\n",
    "y_max = -80000\n",
    "y_step = 50\n",
    "\n",
    "x = np.arange(x_min, x_max, x_step)\n",
    "y = np.arange(y_min, y_max, y_step)\n",
    "X_, Y_ = np.meshgrid(x, y)\n",
    "zs = np.array([costFunction(np.array([350000, x, y]), X, Y) for x, y in zip(np.ravel(X_), np.ravel(Y_))])\n",
    "Z = zs.reshape(X_.shape)\n",
    "\n",
    "plt.figure()\n",
    "CS = plt.contour(X_, Y_, Z)\n",
    "plt.clabel(CS, inline=1, fontsize=10)\n",
    "plt.show()"
   ]
  },
  {
   "cell_type": "markdown",
   "metadata": {},
   "source": [
    "## We really seem to have narroewd down our search\n",
    "- Th0 =  350_000\n",
    "- Th1 =  590_000\n",
    "- Th2 = -120_000"
   ]
  },
  {
   "cell_type": "code",
   "execution_count": 89,
   "metadata": {
    "collapsed": false
   },
   "outputs": [
    {
     "data": {
      "text/plain": [
       "51577.001174056793"
      ]
     },
     "execution_count": 89,
     "metadata": {},
     "output_type": "execute_result"
    }
   ],
   "source": [
    "costFunction(np.array([350000, 590000, -120000]), X, Y)"
   ]
  },
  {
   "cell_type": "markdown",
   "metadata": {},
   "source": [
    "## $50_000 of average error is better than 70_000\n",
    "### However lets now try to find a better Th0"
   ]
  },
  {
   "cell_type": "code",
   "execution_count": 106,
   "metadata": {
    "collapsed": true
   },
   "outputs": [],
   "source": [
    "mini = 300000\n",
    "maxi = 400000\n",
    "numSteps = 60 # <<<< Change that parameter\n",
    "step = maxi/numSteps\n",
    "iterations = int((maxi - mini)/step)\n",
    "\n",
    "y = np.empty(iterations, dtype=np.float)\n",
    "x = np.arange(mini, maxi, step)\n",
    "\n",
    "for i in range(iterations):\n",
    "    y[i] = costFunction(np.array([mini + i*step,590000,-120000]), X, Y)"
   ]
  },
  {
   "cell_type": "code",
   "execution_count": 107,
   "metadata": {
    "collapsed": false
   },
   "outputs": [
    {
     "data": {
      "image/png": "[encoded data removed]",
      "text/plain": [
       "<matplotlib.figure.Figure at 0x11fed50>"
      ]
     },
     "metadata": {},
     "output_type": "display_data"
    }
   ],
   "source": [
    "plt.plot(x, y, 'go')\n",
    "plt.xlabel('thet0')\n",
    "plt.ylabel('costFunction')\n",
    "plt.show()"
   ]
  },
  {
   "cell_type": "code",
   "execution_count": 108,
   "metadata": {
    "collapsed": false
   },
   "outputs": [
    {
     "data": {
      "text/plain": [
       "50679.41372792497"
      ]
     },
     "execution_count": 108,
     "metadata": {},
     "output_type": "execute_result"
    }
   ],
   "source": [
    "costFunction(np.array([340000, 590000, -120000]), X, Y)"
   ]
  },
  {
   "cell_type": "code",
   "execution_count": null,
   "metadata": {
    "collapsed": true
   },
   "outputs": [],
   "source": []
  }
 ],
 "metadata": {
  "kernelspec": {
   "display_name": "Python 3",
   "language": "python",
   "name": "python3"
  },
  "language_info": {
   "codemirror_mode": {
    "name": "ipython",
    "version": 3
   },
   "file_extension": ".py",
   "mimetype": "text/x-python",
   "name": "python",
   "nbconvert_exporter": "python",
   "pygments_lexer": "ipython3",
   "version": "3.5.1"
  }
 },
 "nbformat": 4,
 "nbformat_minor": 1
}
