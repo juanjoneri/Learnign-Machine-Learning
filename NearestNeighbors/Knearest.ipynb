{
 "cells": [
  {
   "cell_type": "markdown",
   "metadata": {},
   "source": [
    "# Slightly better approach of Nearest Neighbors\n",
    "### Where we compare not only with the most similar, but with the k most similar and compute the percent of each class in that set"
   ]
  },
  {
   "cell_type": "markdown",
   "metadata": {},
   "source": [
    "## Import statements"
   ]
  },
  {
   "cell_type": "code",
   "execution_count": 3,
   "metadata": {
    "collapsed": true
   },
   "outputs": [],
   "source": [
    "import numpy as np\n",
    "import matplotlib.pyplot as plt"
   ]
  },
  {
   "cell_type": "markdown",
   "metadata": {},
   "source": [
    "## Collect data\n",
    "### And select subsets for test and train"
   ]
  },
  {
   "cell_type": "code",
   "execution_count": 81,
   "metadata": {
    "collapsed": true
   },
   "outputs": [],
   "source": [
    "my_data = np.genfromtxt('../../ML/mnist_test.csv', delimiter=',')\n",
    "train = my_data[0:99]\n",
    "test = my_data[1000:1100]"
   ]
  },
  {
   "cell_type": "markdown",
   "metadata": {},
   "source": [
    "## Functions from previous notebooks\n",
    "*Reference Find Distance and Print Numberfor further explanation*"
   ]
  },
  {
   "cell_type": "code",
   "execution_count": 86,
   "metadata": {
    "collapsed": true
   },
   "outputs": [],
   "source": [
    "#This one is slightly twaked to accept the char instead of looking for it in the array\n",
    "def getCharacter(char, side=28):\n",
    "    size = side * side\n",
    "    nm = char[0]\n",
    "    pxs = np.zeros(size)\n",
    "    for i in range(1, size + 1):\n",
    "        pxs[i-1] = char[i]\n",
    "    pxs = np.reshape(pxs, (side, side))\n",
    "    pxs = np.fliplr([pxs])[0]\n",
    "    \n",
    "    return nm, pxs\n",
    "\n",
    "def plotCharacter(pxs):\n",
    "    side = pxs.shape[0]\n",
    "    y = x = range(1, side + 1)\n",
    "    x, y = np.meshgrid(x, y)\n",
    "    plt.pcolormesh(x, y, pxs, cmap=plt.cm.get_cmap('Greys'))\n",
    "    plt.colorbar()\n",
    "    plt.show()\n",
    "    \n",
    "def findDistance(pxs1, pxs2, square=False):\n",
    "    if square:\n",
    "        return np.sum(np.square(pxs1 - pxs2))\n",
    "    else:\n",
    "        return np.sum(np.absolute(pxs1 - pxs2))\n",
    "\n",
    "def nearestNeighbourRemove( train, pxs ):\n",
    "    #Give a default value to minDif to then compare and minimize\n",
    "    _, iniChar = getCharacter(train[0])\n",
    "    nearest = train[0]\n",
    "    minDif = findDistance(iniChar, pxs)\n",
    "    \n",
    "    closestIndex = 0\n",
    "    \n",
    "    for i in range(train.shape[0]):\n",
    "        #we use this index to delete the element once we are done\n",
    "        char = train[i]\n",
    "        _, pxs2 = getCharacter(char)\n",
    "        dif = findDistance(pxs2, pxs)        \n",
    "        if dif < minDif:\n",
    "            minDif = dif\n",
    "            nearest = char\n",
    "            closestIndex = i\n",
    "    \n",
    "    return nearest, closestIndex"
   ]
  },
  {
   "cell_type": "code",
   "execution_count": 88,
   "metadata": {
    "collapsed": false
   },
   "outputs": [
    {
     "data": {
      "text/plain": [
       "(99, 785)"
      ]
     },
     "execution_count": 88,
     "metadata": {},
     "output_type": "execute_result"
    }
   ],
   "source": [
    "train.shape"
   ]
  },
  {
   "cell_type": "code",
   "execution_count": 89,
   "metadata": {
    "collapsed": false
   },
   "outputs": [
    {
     "data": {
      "text/plain": [
       "(98, 785)"
      ]
     },
     "execution_count": 89,
     "metadata": {},
     "output_type": "execute_result"
    }
   ],
   "source": [
    "train = np.delete(train,2,0)\n",
    "train.shape"
   ]
  },
  {
   "cell_type": "markdown",
   "metadata": {},
   "source": [
    "## Function for finding the Kth characters with the least distance"
   ]
  },
  {
   "cell_type": "code",
   "execution_count": 90,
   "metadata": {
    "collapsed": false
   },
   "outputs": [],
   "source": [
    "#will return an k dimensional array, with the values of the char closest to pxs\n",
    "def kNearest( train, pxs, k ):\n",
    "    neighbors = []\n",
    "    for i in range(k):\n",
    "        #get the entire thing so we can remove it from the training\n",
    "        nearest, closestIndex = nearestNeighbourRemove(train, pxs)\n",
    "        #get the value so we can store in neghbors array\n",
    "        value, _ = getCharacter(nearest)\n",
    "        neighbors.append(value)\n",
    "        # remove the element from the training set so we wont find it again!\n",
    "        # good news is that python wont update the original array, and therefore\n",
    "        # there is no need to import the data every time we run this algorithm\n",
    "        train = np.delete(train,closestIndex,0)\n",
    "    \n",
    "    return neighbors"
   ]
  },
  {
   "cell_type": "code",
   "execution_count": 56,
   "metadata": {
    "collapsed": false
   },
   "outputs": [
    {
     "data": {
      "image/png": "[encoded data removed]",
      "text/plain": [
       "<matplotlib.figure.Figure at 0x13539f30>"
      ]
     },
     "metadata": {},
     "output_type": "display_data"
    }
   ],
   "source": [
    "nm, pxs = getCharacter(test[8])\n",
    "plotCharacter(pxs)"
   ]
  },
  {
   "cell_type": "code",
   "execution_count": 87,
   "metadata": {
    "collapsed": false
   },
   "outputs": [
    {
     "name": "stdout",
     "output_type": "stream",
     "text": [
      "[1.0, 1.0, 1.0, 1.0, 1.0, 1.0, 1.0, 1.0, 1.0, 1.0, 1.0, 3.0, 1.0, 1.0, 1.0, 9.0, 3.0, 4.0, 9.0, 9.0, 2.0, 5.0, 2.0, 7.0, 7.0, 6.0, 3.0, 3.0, 7.0, 6.0, 9.0, 5.0, 2.0, 5.0, 2.0, 5.0, 4.0, 3.0, 4.0, 9.0, 7.0, 4.0, 7.0, 3.0, 7.0, 4.0, 6.0, 7.0, 6.0, 9.0]\n"
     ]
    }
   ],
   "source": [
    "kn = kNearest(train, pxs,50)\n",
    "print(kn)"
   ]
  },
  {
   "cell_type": "code",
   "execution_count": null,
   "metadata": {
    "collapsed": true
   },
   "outputs": [],
   "source": []
  }
 ],
 "metadata": {
  "kernelspec": {
   "display_name": "Python 3",
   "language": "python",
   "name": "python3"
  },
  "language_info": {
   "codemirror_mode": {
    "name": "ipython",
    "version": 3
   },
   "file_extension": ".py",
   "mimetype": "text/x-python",
   "name": "python",
   "nbconvert_exporter": "python",
   "pygments_lexer": "ipython3",
   "version": "3.5.1"
  }
 },
 "nbformat": 4,
 "nbformat_minor": 1
}
