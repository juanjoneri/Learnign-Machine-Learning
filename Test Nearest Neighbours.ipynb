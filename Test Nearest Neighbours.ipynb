{
 "cells": [
  {
   "cell_type": "markdown",
   "metadata": {},
   "source": [
    "# Test the accuracy of our algorithm"
   ]
  },
  {
   "cell_type": "code",
   "execution_count": 12,
   "metadata": {
    "collapsed": true
   },
   "outputs": [],
   "source": [
    "#Import Statements\n",
    "import numpy as np\n",
    "import matplotlib.pyplot as plt\n",
    "\n",
    "#Collect Data\n",
    "my_data = np.genfromtxt('../ML/mnist_test.csv', delimiter=',')\n",
    "train = my_data[0:1999]\n",
    "test = my_data[2000:2100]\n",
    "\n",
    "#Functions\n",
    "def getCharacter(char, side=28):\n",
    "    size = side * side\n",
    "    nm = char[0]\n",
    "    pxs = np.zeros(size)\n",
    "    for i in range(1, size + 1):\n",
    "        pxs[i-1] = char[i]\n",
    "    pxs = np.reshape(pxs, (side, side))\n",
    "    pxs = np.fliplr([pxs])[0]\n",
    "    \n",
    "    return nm, pxs\n",
    "\n",
    "def plotCharacter(pxs):\n",
    "    side = pxs.shape[0]\n",
    "    y = x = range(1, side + 1)\n",
    "    x, y = np.meshgrid(x, y)\n",
    "    plt.pcolormesh(x, y, pxs, cmap=plt.cm.get_cmap('Greys'))\n",
    "    plt.colorbar()\n",
    "    plt.show()\n",
    "    \n",
    "def findDistance(pxs1, pxs2, square=False):\n",
    "    if square:\n",
    "        return np.sum(np.square(pxs1 - pxs2))\n",
    "    else:\n",
    "        return np.sum(np.absolute(pxs1 - pxs2))\n",
    "\n",
    "def nearestNeighbour( train, pxs ):\n",
    "    #Give a default value to minDif to then compare and minimize\n",
    "    _, iniChar = getCharacter(train[0])\n",
    "    nearest = train[0]\n",
    "    minDif = findDistance(iniChar, pxs)\n",
    "    #Iterate over the other chars to check which is the single best\n",
    "    for char in train:\n",
    "        _, pxs2 = getCharacter(char)\n",
    "        dif = findDistance(pxs2, pxs)        \n",
    "        if dif < minDif:\n",
    "            minDif = dif\n",
    "            nearest = char\n",
    "            \n",
    "    return nearest"
   ]
  },
  {
   "cell_type": "markdown",
   "metadata": {},
   "source": [
    "## New Function for testing the percentage of hits!"
   ]
  },
  {
   "cell_type": "code",
   "execution_count": 4,
   "metadata": {
    "collapsed": false
   },
   "outputs": [],
   "source": [
    "def calculateAccuracy(train, test):\n",
    "    hits = 0\n",
    "    \n",
    "    for char in test:\n",
    "        nm, pxs = getCharacter(char)\n",
    "        nearest = nearestNeighbour(train, pxs)\n",
    "        value, _ = getCharacter(nearest)\n",
    "        \n",
    "        if value == nm:\n",
    "            hits += 1\n",
    "    \n",
    "    return 100*(hits/test.shape[0])"
   ]
  },
  {
   "cell_type": "code",
   "execution_count": 13,
   "metadata": {
    "collapsed": false
   },
   "outputs": [
    {
     "name": "stdout",
     "output_type": "stream",
     "text": [
      "The accuracy of your algorithm is , 87 %\n"
     ]
    }
   ],
   "source": [
    "print(\"The accuracy of your algorithm is ,\",calculateAccuracy(train, test), \"%\")"
   ]
  },
  {
   "cell_type": "code",
   "execution_count": null,
   "metadata": {
    "collapsed": true
   },
   "outputs": [],
   "source": []
  }
 ],
 "metadata": {
  "kernelspec": {
   "display_name": "Python 3",
   "language": "python",
   "name": "python3"
  },
  "language_info": {
   "codemirror_mode": {
    "name": "ipython",
    "version": 3
   },
   "file_extension": ".py",
   "mimetype": "text/x-python",
   "name": "python",
   "nbconvert_exporter": "python",
   "pygments_lexer": "ipython3",
   "version": "3.5.1"
  }
 },
 "nbformat": 4,
 "nbformat_minor": 1
}
