{
 "cells": [
  {
   "cell_type": "markdown",
   "metadata": {},
   "source": [
    "# Find \"distance\" between any two characters drawings"
   ]
  },
  {
   "cell_type": "markdown",
   "metadata": {},
   "source": [
    "## Import statements"
   ]
  },
  {
   "cell_type": "code",
   "execution_count": 1,
   "metadata": {
    "collapsed": true
   },
   "outputs": [],
   "source": [
    "import numpy as np\n",
    "import matplotlib.pyplot as plt\n",
    "import numpy as np"
   ]
  },
  {
   "cell_type": "markdown",
   "metadata": {},
   "source": [
    "## Collect the data\n",
    "### and peak!"
   ]
  },
  {
   "cell_type": "code",
   "execution_count": 2,
   "metadata": {
    "collapsed": false
   },
   "outputs": [
    {
     "data": {
      "text/plain": [
       "array([[ 7.,  0.,  0., ...,  0.,  0.,  0.],\n",
       "       [ 2.,  0.,  0., ...,  0.,  0.,  0.],\n",
       "       [ 1.,  0.,  0., ...,  0.,  0.,  0.],\n",
       "       ..., \n",
       "       [ 4.,  0.,  0., ...,  0.,  0.,  0.],\n",
       "       [ 5.,  0.,  0., ...,  0.,  0.,  0.],\n",
       "       [ 6.,  0.,  0., ...,  0.,  0.,  0.]])"
      ]
     },
     "execution_count": 2,
     "metadata": {},
     "output_type": "execute_result"
    }
   ],
   "source": [
    "my_data = np.genfromtxt('../ML/mnist_test.csv', delimiter=',')\n",
    "my_data"
   ]
  },
  {
   "cell_type": "markdown",
   "metadata": {},
   "source": [
    "## Functions from previous notebooks\n",
    "*Reference Print Number for further explanation*"
   ]
  },
  {
   "cell_type": "code",
   "execution_count": 3,
   "metadata": {
    "collapsed": true
   },
   "outputs": [],
   "source": [
    "def getCharacter(my_data, index, side=28):\n",
    "    size = side * side\n",
    "    nth = my_data[index]\n",
    "    nm = nth[0]\n",
    "    pxs = np.zeros(size)\n",
    "    for i in range(1, size + 1):\n",
    "        pxs[i-1] = nth[i]\n",
    "    pxs = np.reshape(pxs, (side, side))\n",
    "    pxs = np.fliplr([pxs])[0]\n",
    "    \n",
    "    return nm, pxs\n",
    "\n",
    "def plotCharacter(pxs):\n",
    "    side = pxs.shape[0]\n",
    "    y = x = range(1, side + 1)\n",
    "    x, y = np.meshgrid(x, y)\n",
    "    plt.pcolormesh(x, y, pxs, cmap=plt.cm.get_cmap('Greys'))\n",
    "    plt.colorbar()\n",
    "    plt.show()"
   ]
  },
  {
   "cell_type": "markdown",
   "metadata": {},
   "source": [
    "## Function for finding difference between two Characters\n",
    "### Either the sum of the squares or the absolute values"
   ]
  },
  {
   "cell_type": "code",
   "execution_count": 4,
   "metadata": {
    "collapsed": true
   },
   "outputs": [],
   "source": [
    "def findDistance(pxs1, pxs2, square=False):\n",
    "    if square:\n",
    "        return np.sum(np.square(pxs1 - pxs2))\n",
    "    else:\n",
    "        return np.sum(np.absolute(pxs1 - pxs2))"
   ]
  },
  {
   "cell_type": "markdown",
   "metadata": {},
   "source": [
    "## Test function"
   ]
  },
  {
   "cell_type": "code",
   "execution_count": 5,
   "metadata": {
    "collapsed": false
   },
   "outputs": [
    {
     "data": {
      "text/plain": [
       "0.0"
      ]
     },
     "execution_count": 5,
     "metadata": {},
     "output_type": "execute_result"
    }
   ],
   "source": [
    "# Find distance to itself\n",
    "nm, pxs = getCharacter(my_data, 0)\n",
    "findDistance(pxs, pxs)"
   ]
  },
  {
   "cell_type": "code",
   "execution_count": 17,
   "metadata": {
    "collapsed": false
   },
   "outputs": [
    {
     "name": "stdout",
     "output_type": "stream",
     "text": [
      "The square distance between 7.0 and 2.0 is 2873.55, the linear is 39192.00\n"
     ]
    }
   ],
   "source": [
    "# Find distance to other\n",
    "nm, pxs = getCharacter(my_data, 0)\n",
    "nm2, pxs2 = getCharacter(my_data, 1)\n",
    "\n",
    "sq = np.sqrt(findDistance(pxs, pxs2, True))\n",
    "ln = findDistance(pxs, pxs2, False)\n",
    "print( \"The square distance between {} and {} is {:.2f}, the linear is {:.2f}\".format( nm, nm2, sq, ln))"
   ]
  },
  {
   "cell_type": "code",
   "execution_count": null,
   "metadata": {
    "collapsed": true
   },
   "outputs": [],
   "source": []
  }
 ],
 "metadata": {
  "kernelspec": {
   "display_name": "Python 3",
   "language": "python",
   "name": "python3"
  },
  "language_info": {
   "codemirror_mode": {
    "name": "ipython",
    "version": 3
   },
   "file_extension": ".py",
   "mimetype": "text/x-python",
   "name": "python",
   "nbconvert_exporter": "python",
   "pygments_lexer": "ipython3",
   "version": "3.5.1"
  }
 },
 "nbformat": 4,
 "nbformat_minor": 1
}
